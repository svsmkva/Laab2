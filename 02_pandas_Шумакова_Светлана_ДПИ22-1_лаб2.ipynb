{
 "cells": [
  {
   "cell_type": "markdown",
   "metadata": {},
   "source": [
    "# Pandas"
   ]
  },
  {
   "cell_type": "markdown",
   "metadata": {},
   "source": [
    "Материалы:\n",
    "* Макрушин С.В. \"Лекция 2: Библиотека Pandas\"\n",
    "* https://pandas.pydata.org/docs/user_guide/index.html#\n",
    "* https://pandas.pydata.org/docs/reference/index.html\n",
    "* Уэс Маккини. Python и анализ данных"
   ]
  },
  {
   "cell_type": "markdown",
   "metadata": {},
   "source": [
    "## Задачи для совместного разбора"
   ]
  },
  {
   "cell_type": "code",
   "execution_count": 43,
   "metadata": {},
   "outputs": [],
   "source": [
    "import pandas as pd\n",
    "import numpy as np"
   ]
  },
  {
   "cell_type": "markdown",
   "metadata": {},
   "source": [
    "1. Загрузите данные из файла `sp500hst.txt` и обозначьте столбцы в соответствии с содержимым: `\"date\", \"ticker\", \"open\", \"high\", \"low\", \"close\", \"volume\"`."
   ]
  },
  {
   "cell_type": "code",
   "execution_count": 44,
   "metadata": {
    "scrolled": true
   },
   "outputs": [
    {
     "data": {
      "text/html": [
       "<div>\n",
       "<style scoped>\n",
       "    .dataframe tbody tr th:only-of-type {\n",
       "        vertical-align: middle;\n",
       "    }\n",
       "\n",
       "    .dataframe tbody tr th {\n",
       "        vertical-align: top;\n",
       "    }\n",
       "\n",
       "    .dataframe thead th {\n",
       "        text-align: right;\n",
       "    }\n",
       "</style>\n",
       "<table border=\"1\" class=\"dataframe\">\n",
       "  <thead>\n",
       "    <tr style=\"text-align: right;\">\n",
       "      <th></th>\n",
       "      <th>date</th>\n",
       "      <th>ticker</th>\n",
       "      <th>open</th>\n",
       "      <th>high</th>\n",
       "      <th>low</th>\n",
       "      <th>close</th>\n",
       "      <th>volume</th>\n",
       "    </tr>\n",
       "  </thead>\n",
       "  <tbody>\n",
       "    <tr>\n",
       "      <th>110890</th>\n",
       "      <td>20100614</td>\n",
       "      <td>TXT</td>\n",
       "      <td>19.56</td>\n",
       "      <td>19.94</td>\n",
       "      <td>19.24</td>\n",
       "      <td>19.30</td>\n",
       "      <td>29404</td>\n",
       "    </tr>\n",
       "    <tr>\n",
       "      <th>9619</th>\n",
       "      <td>20100707</td>\n",
       "      <td>ATI</td>\n",
       "      <td>44.05</td>\n",
       "      <td>46.72</td>\n",
       "      <td>43.90</td>\n",
       "      <td>46.61</td>\n",
       "      <td>15975</td>\n",
       "    </tr>\n",
       "    <tr>\n",
       "      <th>111777</th>\n",
       "      <td>20100129</td>\n",
       "      <td>UPS</td>\n",
       "      <td>59.13</td>\n",
       "      <td>59.79</td>\n",
       "      <td>57.71</td>\n",
       "      <td>57.77</td>\n",
       "      <td>65674</td>\n",
       "    </tr>\n",
       "    <tr>\n",
       "      <th>80897</th>\n",
       "      <td>20091016</td>\n",
       "      <td>NVLS</td>\n",
       "      <td>21.27</td>\n",
       "      <td>21.35</td>\n",
       "      <td>20.90</td>\n",
       "      <td>21.24</td>\n",
       "      <td>50195</td>\n",
       "    </tr>\n",
       "    <tr>\n",
       "      <th>16447</th>\n",
       "      <td>20100330</td>\n",
       "      <td>BSX</td>\n",
       "      <td>7.07</td>\n",
       "      <td>7.27</td>\n",
       "      <td>7.01</td>\n",
       "      <td>7.25</td>\n",
       "      <td>508708</td>\n",
       "    </tr>\n",
       "  </tbody>\n",
       "</table>\n",
       "</div>"
      ],
      "text/plain": [
       "            date ticker   open   high    low  close  volume\n",
       "110890  20100614    TXT  19.56  19.94  19.24  19.30   29404\n",
       "9619    20100707    ATI  44.05  46.72  43.90  46.61   15975\n",
       "111777  20100129    UPS  59.13  59.79  57.71  57.77   65674\n",
       "80897   20091016   NVLS  21.27  21.35  20.90  21.24   50195\n",
       "16447   20100330    BSX   7.07   7.27   7.01   7.25  508708"
      ]
     },
     "execution_count": 44,
     "metadata": {},
     "output_type": "execute_result"
    }
   ],
   "source": [
    "df_sp500 = pd.read_csv('./sp500hst.txt', names=['date', 'ticker', 'open', 'high', 'low', 'close', 'volume'])\n",
    "df_sp500.sample(5)"
   ]
  },
  {
   "cell_type": "code",
   "execution_count": 45,
   "metadata": {},
   "outputs": [
    {
     "data": {
      "text/plain": [
       "date        int64\n",
       "ticker     object\n",
       "open      float64\n",
       "high      float64\n",
       "low       float64\n",
       "close     float64\n",
       "volume      int64\n",
       "dtype: object"
      ]
     },
     "execution_count": 45,
     "metadata": {},
     "output_type": "execute_result"
    }
   ],
   "source": [
    "df_sp500.dtypes"
   ]
  },
  {
   "cell_type": "markdown",
   "metadata": {},
   "source": [
    "2. Рассчитайте среднее значение показателей для каждого из столбцов c номерами 3-6."
   ]
  },
  {
   "cell_type": "code",
   "execution_count": 46,
   "metadata": {
    "scrolled": true
   },
   "outputs": [
    {
     "data": {
      "text/plain": [
       "high         43.102243\n",
       "low          42.054464\n",
       "close        42.601865\n",
       "volume    81395.068138\n",
       "dtype: float64"
      ]
     },
     "execution_count": 46,
     "metadata": {},
     "output_type": "execute_result"
    }
   ],
   "source": [
    "df_sp500.iloc[:, 3:7].mean()"
   ]
  },
  {
   "cell_type": "markdown",
   "metadata": {},
   "source": [
    "3. Добавьте столбец, содержащий только число месяца, к которому относится дата."
   ]
  },
  {
   "cell_type": "code",
   "execution_count": 47,
   "metadata": {},
   "outputs": [
    {
     "data": {
      "text/html": [
       "<div>\n",
       "<style scoped>\n",
       "    .dataframe tbody tr th:only-of-type {\n",
       "        vertical-align: middle;\n",
       "    }\n",
       "\n",
       "    .dataframe tbody tr th {\n",
       "        vertical-align: top;\n",
       "    }\n",
       "\n",
       "    .dataframe thead th {\n",
       "        text-align: right;\n",
       "    }\n",
       "</style>\n",
       "<table border=\"1\" class=\"dataframe\">\n",
       "  <thead>\n",
       "    <tr style=\"text-align: right;\">\n",
       "      <th></th>\n",
       "      <th>date</th>\n",
       "      <th>ticker</th>\n",
       "      <th>open</th>\n",
       "      <th>high</th>\n",
       "      <th>low</th>\n",
       "      <th>close</th>\n",
       "      <th>volume</th>\n",
       "      <th>month</th>\n",
       "    </tr>\n",
       "  </thead>\n",
       "  <tbody>\n",
       "    <tr>\n",
       "      <th>107508</th>\n",
       "      <td>20100816</td>\n",
       "      <td>TIE</td>\n",
       "      <td>19.31</td>\n",
       "      <td>19.61</td>\n",
       "      <td>19.00</td>\n",
       "      <td>19.30</td>\n",
       "      <td>16661</td>\n",
       "      <td>08</td>\n",
       "    </tr>\n",
       "    <tr>\n",
       "      <th>20414</th>\n",
       "      <td>20100212</td>\n",
       "      <td>CEPH</td>\n",
       "      <td>65.98</td>\n",
       "      <td>65.98</td>\n",
       "      <td>64.86</td>\n",
       "      <td>65.60</td>\n",
       "      <td>17867</td>\n",
       "      <td>02</td>\n",
       "    </tr>\n",
       "    <tr>\n",
       "      <th>111622</th>\n",
       "      <td>20100609</td>\n",
       "      <td>UNP</td>\n",
       "      <td>69.92</td>\n",
       "      <td>71.94</td>\n",
       "      <td>69.10</td>\n",
       "      <td>69.38</td>\n",
       "      <td>46587</td>\n",
       "      <td>06</td>\n",
       "    </tr>\n",
       "    <tr>\n",
       "      <th>33501</th>\n",
       "      <td>20100802</td>\n",
       "      <td>DRI</td>\n",
       "      <td>42.48</td>\n",
       "      <td>42.70</td>\n",
       "      <td>41.53</td>\n",
       "      <td>42.30</td>\n",
       "      <td>27234</td>\n",
       "      <td>08</td>\n",
       "    </tr>\n",
       "    <tr>\n",
       "      <th>65283</th>\n",
       "      <td>20100119</td>\n",
       "      <td>LLY</td>\n",
       "      <td>35.99</td>\n",
       "      <td>37.92</td>\n",
       "      <td>35.91</td>\n",
       "      <td>37.41</td>\n",
       "      <td>177957</td>\n",
       "      <td>01</td>\n",
       "    </tr>\n",
       "  </tbody>\n",
       "</table>\n",
       "</div>"
      ],
      "text/plain": [
       "            date ticker   open   high    low  close  volume month\n",
       "107508  20100816    TIE  19.31  19.61  19.00  19.30   16661    08\n",
       "20414   20100212   CEPH  65.98  65.98  64.86  65.60   17867    02\n",
       "111622  20100609    UNP  69.92  71.94  69.10  69.38   46587    06\n",
       "33501   20100802    DRI  42.48  42.70  41.53  42.30   27234    08\n",
       "65283   20100119    LLY  35.99  37.92  35.91  37.41  177957    01"
      ]
     },
     "execution_count": 47,
     "metadata": {},
     "output_type": "execute_result"
    }
   ],
   "source": [
    "df_sp500['month'] = df_sp500.date.astype('str').str.slice(start=4,stop=6)\n",
    "df_sp500.sample(5)"
   ]
  },
  {
   "cell_type": "markdown",
   "metadata": {},
   "source": [
    "4. Рассчитайте суммарный объем торгов для для одинаковых значений тикеров."
   ]
  },
  {
   "cell_type": "code",
   "execution_count": 48,
   "metadata": {},
   "outputs": [
    {
     "data": {
      "text/plain": [
       "ticker\n",
       "A        8609336\n",
       "AA      81898998\n",
       "AAPL    52261170\n",
       "ABC      9006756\n",
       "ABT     18975870\n",
       "          ...   \n",
       "XTO     21297931\n",
       "YHOO    56837171\n",
       "YUM     10971538\n",
       "ZION    15551119\n",
       "ZMH      4938916\n",
       "Name: volume, Length: 524, dtype: int64"
      ]
     },
     "execution_count": 48,
     "metadata": {},
     "output_type": "execute_result"
    }
   ],
   "source": [
    "df_sp500.groupby(by='ticker').volume.sum()"
   ]
  },
  {
   "cell_type": "markdown",
   "metadata": {},
   "source": [
    "5. Загрузите данные из файла sp500hst.txt и обозначьте столбцы в соответствии с содержимым: \"date\", \"ticker\", \"open\", \"high\", \"low\", \"close\", \"volume\". Добавьте столбец с расшифровкой названия тикера, используя данные из файла `sp_data2.csv` . В случае нехватки данных об именах тикеров корректно обработать их."
   ]
  },
  {
   "cell_type": "code",
   "execution_count": 49,
   "metadata": {},
   "outputs": [],
   "source": [
    "df_sp500_with_names = pd.read_csv('./sp500hst.txt', names=['date', 'ticker', 'open', 'high', 'low', 'close', 'volume'])"
   ]
  },
  {
   "cell_type": "code",
   "execution_count": 50,
   "metadata": {},
   "outputs": [
    {
     "data": {
      "text/html": [
       "<div>\n",
       "<style scoped>\n",
       "    .dataframe tbody tr th:only-of-type {\n",
       "        vertical-align: middle;\n",
       "    }\n",
       "\n",
       "    .dataframe tbody tr th {\n",
       "        vertical-align: top;\n",
       "    }\n",
       "\n",
       "    .dataframe thead th {\n",
       "        text-align: right;\n",
       "    }\n",
       "</style>\n",
       "<table border=\"1\" class=\"dataframe\">\n",
       "  <thead>\n",
       "    <tr style=\"text-align: right;\">\n",
       "      <th></th>\n",
       "      <th>ticker</th>\n",
       "      <th>name</th>\n",
       "      <th>percent</th>\n",
       "    </tr>\n",
       "  </thead>\n",
       "  <tbody>\n",
       "    <tr>\n",
       "      <th>338</th>\n",
       "      <td>ESS</td>\n",
       "      <td>Essex Property Trust</td>\n",
       "      <td>0.1%</td>\n",
       "    </tr>\n",
       "    <tr>\n",
       "      <th>18</th>\n",
       "      <td>PFE</td>\n",
       "      <td>Pfizer</td>\n",
       "      <td>0.8%</td>\n",
       "    </tr>\n",
       "    <tr>\n",
       "      <th>434</th>\n",
       "      <td>XRAY</td>\n",
       "      <td>Dentsply Sirona</td>\n",
       "      <td>0.0%</td>\n",
       "    </tr>\n",
       "    <tr>\n",
       "      <th>187</th>\n",
       "      <td>MNST</td>\n",
       "      <td>Monster Beverage</td>\n",
       "      <td>0.1%</td>\n",
       "    </tr>\n",
       "    <tr>\n",
       "      <th>461</th>\n",
       "      <td>PHM</td>\n",
       "      <td>PulteGroup</td>\n",
       "      <td>0.0%</td>\n",
       "    </tr>\n",
       "  </tbody>\n",
       "</table>\n",
       "</div>"
      ],
      "text/plain": [
       "    ticker                  name percent\n",
       "338    ESS  Essex Property Trust    0.1%\n",
       "18     PFE                Pfizer    0.8%\n",
       "434   XRAY       Dentsply Sirona    0.0%\n",
       "187   MNST      Monster Beverage    0.1%\n",
       "461    PHM            PulteGroup    0.0%"
      ]
     },
     "execution_count": 50,
     "metadata": {},
     "output_type": "execute_result"
    }
   ],
   "source": [
    "df_sp500_names = pd.read_csv('./sp_data2.csv',sep=';', names=['ticker', 'name', 'percent'])\n",
    "df_sp500_names.sample(5)"
   ]
  },
  {
   "cell_type": "code",
   "execution_count": 51,
   "metadata": {
    "scrolled": true
   },
   "outputs": [],
   "source": [
    "df_sp500_with_names = df_sp500_with_names.merge(right=df_sp500_names,\n",
    "                                                how='left',left_on='ticker'\n",
    "                                                ,right_on='ticker')"
   ]
  },
  {
   "cell_type": "code",
   "execution_count": 52,
   "metadata": {},
   "outputs": [],
   "source": [
    "df_sp500_with_names.loc[df_sp500_with_names.name.isna(), 'name'] = \\\n",
    "           df_sp500_with_names.loc[df_sp500_with_names.name.isna(), 'ticker']"
   ]
  },
  {
   "cell_type": "code",
   "execution_count": 53,
   "metadata": {},
   "outputs": [
    {
     "data": {
      "text/html": [
       "<div>\n",
       "<style scoped>\n",
       "    .dataframe tbody tr th:only-of-type {\n",
       "        vertical-align: middle;\n",
       "    }\n",
       "\n",
       "    .dataframe tbody tr th {\n",
       "        vertical-align: top;\n",
       "    }\n",
       "\n",
       "    .dataframe thead th {\n",
       "        text-align: right;\n",
       "    }\n",
       "</style>\n",
       "<table border=\"1\" class=\"dataframe\">\n",
       "  <thead>\n",
       "    <tr style=\"text-align: right;\">\n",
       "      <th></th>\n",
       "      <th>date</th>\n",
       "      <th>ticker</th>\n",
       "      <th>open</th>\n",
       "      <th>high</th>\n",
       "      <th>low</th>\n",
       "      <th>close</th>\n",
       "      <th>volume</th>\n",
       "      <th>name</th>\n",
       "      <th>percent</th>\n",
       "    </tr>\n",
       "  </thead>\n",
       "  <tbody>\n",
       "    <tr>\n",
       "      <th>0</th>\n",
       "      <td>20090821</td>\n",
       "      <td>A</td>\n",
       "      <td>25.60</td>\n",
       "      <td>25.6100</td>\n",
       "      <td>25.220</td>\n",
       "      <td>25.55</td>\n",
       "      <td>34758</td>\n",
       "      <td>Agilent Technologies</td>\n",
       "      <td>0.1%</td>\n",
       "    </tr>\n",
       "    <tr>\n",
       "      <th>1</th>\n",
       "      <td>20090824</td>\n",
       "      <td>A</td>\n",
       "      <td>25.64</td>\n",
       "      <td>25.7400</td>\n",
       "      <td>25.330</td>\n",
       "      <td>25.50</td>\n",
       "      <td>22247</td>\n",
       "      <td>Agilent Technologies</td>\n",
       "      <td>0.1%</td>\n",
       "    </tr>\n",
       "    <tr>\n",
       "      <th>2</th>\n",
       "      <td>20090825</td>\n",
       "      <td>A</td>\n",
       "      <td>25.50</td>\n",
       "      <td>25.7000</td>\n",
       "      <td>25.225</td>\n",
       "      <td>25.34</td>\n",
       "      <td>30891</td>\n",
       "      <td>Agilent Technologies</td>\n",
       "      <td>0.1%</td>\n",
       "    </tr>\n",
       "    <tr>\n",
       "      <th>3</th>\n",
       "      <td>20090826</td>\n",
       "      <td>A</td>\n",
       "      <td>25.32</td>\n",
       "      <td>25.6425</td>\n",
       "      <td>25.145</td>\n",
       "      <td>25.48</td>\n",
       "      <td>33334</td>\n",
       "      <td>Agilent Technologies</td>\n",
       "      <td>0.1%</td>\n",
       "    </tr>\n",
       "    <tr>\n",
       "      <th>4</th>\n",
       "      <td>20090827</td>\n",
       "      <td>A</td>\n",
       "      <td>25.50</td>\n",
       "      <td>25.5700</td>\n",
       "      <td>25.230</td>\n",
       "      <td>25.54</td>\n",
       "      <td>70176</td>\n",
       "      <td>Agilent Technologies</td>\n",
       "      <td>0.1%</td>\n",
       "    </tr>\n",
       "    <tr>\n",
       "      <th>...</th>\n",
       "      <td>...</td>\n",
       "      <td>...</td>\n",
       "      <td>...</td>\n",
       "      <td>...</td>\n",
       "      <td>...</td>\n",
       "      <td>...</td>\n",
       "      <td>...</td>\n",
       "      <td>...</td>\n",
       "      <td>...</td>\n",
       "    </tr>\n",
       "    <tr>\n",
       "      <th>122569</th>\n",
       "      <td>20100813</td>\n",
       "      <td>ZMH</td>\n",
       "      <td>51.72</td>\n",
       "      <td>51.9000</td>\n",
       "      <td>51.380</td>\n",
       "      <td>51.44</td>\n",
       "      <td>14561</td>\n",
       "      <td>ZMH</td>\n",
       "      <td>NaN</td>\n",
       "    </tr>\n",
       "    <tr>\n",
       "      <th>122570</th>\n",
       "      <td>20100816</td>\n",
       "      <td>ZMH</td>\n",
       "      <td>51.13</td>\n",
       "      <td>51.4700</td>\n",
       "      <td>50.600</td>\n",
       "      <td>51.00</td>\n",
       "      <td>13489</td>\n",
       "      <td>ZMH</td>\n",
       "      <td>NaN</td>\n",
       "    </tr>\n",
       "    <tr>\n",
       "      <th>122571</th>\n",
       "      <td>20100817</td>\n",
       "      <td>ZMH</td>\n",
       "      <td>51.14</td>\n",
       "      <td>51.6000</td>\n",
       "      <td>50.890</td>\n",
       "      <td>51.21</td>\n",
       "      <td>20498</td>\n",
       "      <td>ZMH</td>\n",
       "      <td>NaN</td>\n",
       "    </tr>\n",
       "    <tr>\n",
       "      <th>122572</th>\n",
       "      <td>20100819</td>\n",
       "      <td>ZMH</td>\n",
       "      <td>51.63</td>\n",
       "      <td>51.6300</td>\n",
       "      <td>50.170</td>\n",
       "      <td>50.22</td>\n",
       "      <td>18259</td>\n",
       "      <td>ZMH</td>\n",
       "      <td>NaN</td>\n",
       "    </tr>\n",
       "    <tr>\n",
       "      <th>122573</th>\n",
       "      <td>20100820</td>\n",
       "      <td>ZMH</td>\n",
       "      <td>50.03</td>\n",
       "      <td>50.5500</td>\n",
       "      <td>49.480</td>\n",
       "      <td>49.82</td>\n",
       "      <td>17792</td>\n",
       "      <td>ZMH</td>\n",
       "      <td>NaN</td>\n",
       "    </tr>\n",
       "  </tbody>\n",
       "</table>\n",
       "<p>122574 rows × 9 columns</p>\n",
       "</div>"
      ],
      "text/plain": [
       "            date ticker   open     high     low  close  volume  \\\n",
       "0       20090821      A  25.60  25.6100  25.220  25.55   34758   \n",
       "1       20090824      A  25.64  25.7400  25.330  25.50   22247   \n",
       "2       20090825      A  25.50  25.7000  25.225  25.34   30891   \n",
       "3       20090826      A  25.32  25.6425  25.145  25.48   33334   \n",
       "4       20090827      A  25.50  25.5700  25.230  25.54   70176   \n",
       "...          ...    ...    ...      ...     ...    ...     ...   \n",
       "122569  20100813    ZMH  51.72  51.9000  51.380  51.44   14561   \n",
       "122570  20100816    ZMH  51.13  51.4700  50.600  51.00   13489   \n",
       "122571  20100817    ZMH  51.14  51.6000  50.890  51.21   20498   \n",
       "122572  20100819    ZMH  51.63  51.6300  50.170  50.22   18259   \n",
       "122573  20100820    ZMH  50.03  50.5500  49.480  49.82   17792   \n",
       "\n",
       "                        name percent  \n",
       "0       Agilent Technologies    0.1%  \n",
       "1       Agilent Technologies    0.1%  \n",
       "2       Agilent Technologies    0.1%  \n",
       "3       Agilent Technologies    0.1%  \n",
       "4       Agilent Technologies    0.1%  \n",
       "...                      ...     ...  \n",
       "122569                   ZMH     NaN  \n",
       "122570                   ZMH     NaN  \n",
       "122571                   ZMH     NaN  \n",
       "122572                   ZMH     NaN  \n",
       "122573                   ZMH     NaN  \n",
       "\n",
       "[122574 rows x 9 columns]"
      ]
     },
     "execution_count": 53,
     "metadata": {},
     "output_type": "execute_result"
    }
   ],
   "source": [
    "df_sp500_with_names"
   ]
  },
  {
   "cell_type": "markdown",
   "metadata": {},
   "source": [
    "## Лабораторная работа №2"
   ]
  },
  {
   "cell_type": "markdown",
   "metadata": {},
   "source": [
    "### Базовые операции с `DataFrame`"
   ]
  },
  {
   "cell_type": "markdown",
   "metadata": {},
   "source": [
    "1.1 В файлах `recipes_sample.csv` и `reviews_sample.csv` находится информация об рецептах блюд и отзывах на эти рецепты соответственно. Загрузите данные из файлов в виде `pd.DataFrame` с названиями `recipes` и `reviews`. Обратите внимание на корректное считывание столбца с индексами в таблице `reviews` (безымянный столбец)."
   ]
  },
  {
   "cell_type": "code",
   "execution_count": 54,
   "metadata": {
    "scrolled": true
   },
   "outputs": [
    {
     "data": {
      "text/html": [
       "<div>\n",
       "<style scoped>\n",
       "    .dataframe tbody tr th:only-of-type {\n",
       "        vertical-align: middle;\n",
       "    }\n",
       "\n",
       "    .dataframe tbody tr th {\n",
       "        vertical-align: top;\n",
       "    }\n",
       "\n",
       "    .dataframe thead th {\n",
       "        text-align: right;\n",
       "    }\n",
       "</style>\n",
       "<table border=\"1\" class=\"dataframe\">\n",
       "  <thead>\n",
       "    <tr style=\"text-align: right;\">\n",
       "      <th></th>\n",
       "      <th>name</th>\n",
       "      <th>id</th>\n",
       "      <th>minutes</th>\n",
       "      <th>contributor_id</th>\n",
       "      <th>submitted</th>\n",
       "      <th>n_steps</th>\n",
       "      <th>description</th>\n",
       "      <th>n_ingredients</th>\n",
       "    </tr>\n",
       "  </thead>\n",
       "  <tbody>\n",
       "    <tr>\n",
       "      <th>20188</th>\n",
       "      <td>peanut brownies</td>\n",
       "      <td>217374</td>\n",
       "      <td>35</td>\n",
       "      <td>322326</td>\n",
       "      <td>2007-03-18</td>\n",
       "      <td>9.0</td>\n",
       "      <td>peanut brownies are my all time favourite and ...</td>\n",
       "      <td>8.0</td>\n",
       "    </tr>\n",
       "    <tr>\n",
       "      <th>2801</th>\n",
       "      <td>ben s garlic cheddar mashed potatoes</td>\n",
       "      <td>257766</td>\n",
       "      <td>65</td>\n",
       "      <td>482933</td>\n",
       "      <td>2007-10-08</td>\n",
       "      <td>9.0</td>\n",
       "      <td>i like to fix this whenever i do not have gravy.</td>\n",
       "      <td>NaN</td>\n",
       "    </tr>\n",
       "    <tr>\n",
       "      <th>8556</th>\n",
       "      <td>crock o  cranberry meatballs</td>\n",
       "      <td>89272</td>\n",
       "      <td>440</td>\n",
       "      <td>136138</td>\n",
       "      <td>2004-04-17</td>\n",
       "      <td>5.0</td>\n",
       "      <td>i first had this at a graduation party. it's a...</td>\n",
       "      <td>10.0</td>\n",
       "    </tr>\n",
       "    <tr>\n",
       "      <th>1208</th>\n",
       "      <td>asian chicken ravioli with v8 creamy tomato sauce</td>\n",
       "      <td>368003</td>\n",
       "      <td>30</td>\n",
       "      <td>58439</td>\n",
       "      <td>2009-04-26</td>\n",
       "      <td>25.0</td>\n",
       "      <td>am proud to say,\\r\\nthis recipe makes my day!\\...</td>\n",
       "      <td>19.0</td>\n",
       "    </tr>\n",
       "    <tr>\n",
       "      <th>25671</th>\n",
       "      <td>spinach salad with salmon</td>\n",
       "      <td>499375</td>\n",
       "      <td>15</td>\n",
       "      <td>560491</td>\n",
       "      <td>2013-04-24</td>\n",
       "      <td>NaN</td>\n",
       "      <td>a great salad can keep you going for hours -- ...</td>\n",
       "      <td>NaN</td>\n",
       "    </tr>\n",
       "  </tbody>\n",
       "</table>\n",
       "</div>"
      ],
      "text/plain": [
       "                                                    name      id  minutes  \\\n",
       "20188                                    peanut brownies  217374       35   \n",
       "2801                ben s garlic cheddar mashed potatoes  257766       65   \n",
       "8556                        crock o  cranberry meatballs   89272      440   \n",
       "1208   asian chicken ravioli with v8 creamy tomato sauce  368003       30   \n",
       "25671                          spinach salad with salmon  499375       15   \n",
       "\n",
       "       contributor_id   submitted  n_steps  \\\n",
       "20188          322326  2007-03-18      9.0   \n",
       "2801           482933  2007-10-08      9.0   \n",
       "8556           136138  2004-04-17      5.0   \n",
       "1208            58439  2009-04-26     25.0   \n",
       "25671          560491  2013-04-24      NaN   \n",
       "\n",
       "                                             description  n_ingredients  \n",
       "20188  peanut brownies are my all time favourite and ...            8.0  \n",
       "2801    i like to fix this whenever i do not have gravy.            NaN  \n",
       "8556   i first had this at a graduation party. it's a...           10.0  \n",
       "1208   am proud to say,\\r\\nthis recipe makes my day!\\...           19.0  \n",
       "25671  a great salad can keep you going for hours -- ...            NaN  "
      ]
     },
     "execution_count": 54,
     "metadata": {},
     "output_type": "execute_result"
    }
   ],
   "source": [
    "recipes = pd.read_csv('./recipes_sample.csv')\n",
    "recipes.sample(5)"
   ]
  },
  {
   "cell_type": "code",
   "execution_count": 55,
   "metadata": {
    "scrolled": true
   },
   "outputs": [
    {
     "data": {
      "text/html": [
       "<div>\n",
       "<style scoped>\n",
       "    .dataframe tbody tr th:only-of-type {\n",
       "        vertical-align: middle;\n",
       "    }\n",
       "\n",
       "    .dataframe tbody tr th {\n",
       "        vertical-align: top;\n",
       "    }\n",
       "\n",
       "    .dataframe thead th {\n",
       "        text-align: right;\n",
       "    }\n",
       "</style>\n",
       "<table border=\"1\" class=\"dataframe\">\n",
       "  <thead>\n",
       "    <tr style=\"text-align: right;\">\n",
       "      <th></th>\n",
       "      <th>Unnamed: 0</th>\n",
       "      <th>user_id</th>\n",
       "      <th>recipe_id</th>\n",
       "      <th>date</th>\n",
       "      <th>rating</th>\n",
       "      <th>review</th>\n",
       "    </tr>\n",
       "  </thead>\n",
       "  <tbody>\n",
       "    <tr>\n",
       "      <th>50902</th>\n",
       "      <td>948258</td>\n",
       "      <td>52282</td>\n",
       "      <td>14537</td>\n",
       "      <td>2004-03-17</td>\n",
       "      <td>5</td>\n",
       "      <td>this was the leanest corned beef i have ever m...</td>\n",
       "    </tr>\n",
       "    <tr>\n",
       "      <th>121949</th>\n",
       "      <td>1124965</td>\n",
       "      <td>15521</td>\n",
       "      <td>138305</td>\n",
       "      <td>2009-12-20</td>\n",
       "      <td>5</td>\n",
       "      <td>Yummy!  I left out the red bell pepper, and al...</td>\n",
       "    </tr>\n",
       "    <tr>\n",
       "      <th>43351</th>\n",
       "      <td>402207</td>\n",
       "      <td>296612</td>\n",
       "      <td>27084</td>\n",
       "      <td>2006-03-03</td>\n",
       "      <td>0</td>\n",
       "      <td>I tried this for supper tonight, and it was gr...</td>\n",
       "    </tr>\n",
       "    <tr>\n",
       "      <th>104297</th>\n",
       "      <td>518758</td>\n",
       "      <td>626408</td>\n",
       "      <td>54715</td>\n",
       "      <td>2007-10-30</td>\n",
       "      <td>5</td>\n",
       "      <td>This is such a simple and excellent tasting re...</td>\n",
       "    </tr>\n",
       "    <tr>\n",
       "      <th>81363</th>\n",
       "      <td>15932</td>\n",
       "      <td>746639</td>\n",
       "      <td>7397</td>\n",
       "      <td>2008-02-19</td>\n",
       "      <td>0</td>\n",
       "      <td>Super easy! I am not a great baker, but this c...</td>\n",
       "    </tr>\n",
       "  </tbody>\n",
       "</table>\n",
       "</div>"
      ],
      "text/plain": [
       "        Unnamed: 0  user_id  recipe_id        date  rating  \\\n",
       "50902       948258    52282      14537  2004-03-17       5   \n",
       "121949     1124965    15521     138305  2009-12-20       5   \n",
       "43351       402207   296612      27084  2006-03-03       0   \n",
       "104297      518758   626408      54715  2007-10-30       5   \n",
       "81363        15932   746639       7397  2008-02-19       0   \n",
       "\n",
       "                                                   review  \n",
       "50902   this was the leanest corned beef i have ever m...  \n",
       "121949  Yummy!  I left out the red bell pepper, and al...  \n",
       "43351   I tried this for supper tonight, and it was gr...  \n",
       "104297  This is such a simple and excellent tasting re...  \n",
       "81363   Super easy! I am not a great baker, but this c...  "
      ]
     },
     "execution_count": 55,
     "metadata": {},
     "output_type": "execute_result"
    }
   ],
   "source": [
    "reviews = pd.read_csv('./reviews_sample.csv')\n",
    "reviews.sample(5)"
   ]
  },
  {
   "cell_type": "markdown",
   "metadata": {},
   "source": [
    "*Как мы видим, данные безымянного столбца считались корректно*"
   ]
  },
  {
   "cell_type": "markdown",
   "metadata": {},
   "source": [
    "1.2 Для каждой из таблиц выведите основные параметры:\n",
    "* количество точек данных (строк);\n",
    "* количество столбцов;\n",
    "* тип данных каждого столбца."
   ]
  },
  {
   "cell_type": "markdown",
   "metadata": {},
   "source": [
    "*Выведем основные параметры датафрейма recepies, для этого воспользуемся методом info():*"
   ]
  },
  {
   "cell_type": "code",
   "execution_count": 56,
   "metadata": {},
   "outputs": [
    {
     "name": "stdout",
     "output_type": "stream",
     "text": [
      "<class 'pandas.core.frame.DataFrame'>\n",
      "RangeIndex: 30000 entries, 0 to 29999\n",
      "Data columns (total 8 columns):\n",
      " #   Column          Non-Null Count  Dtype  \n",
      "---  ------          --------------  -----  \n",
      " 0   name            30000 non-null  object \n",
      " 1   id              30000 non-null  int64  \n",
      " 2   minutes         30000 non-null  int64  \n",
      " 3   contributor_id  30000 non-null  int64  \n",
      " 4   submitted       30000 non-null  object \n",
      " 5   n_steps         18810 non-null  float64\n",
      " 6   description     29377 non-null  object \n",
      " 7   n_ingredients   21120 non-null  float64\n",
      "dtypes: float64(2), int64(3), object(3)\n",
      "memory usage: 1.8+ MB\n"
     ]
    }
   ],
   "source": [
    "recipes.info()"
   ]
  },
  {
   "cell_type": "markdown",
   "metadata": {},
   "source": [
    "*Как мы видим, датафрейм содержит 30000 строк, 8 столбцов, присутствуют такие типы столбцов, как строковый, целочисленный и численный с плавающей точкой.*\n",
    "\n",
    "*Проделаем то же самое для датафрейма reviews:*"
   ]
  },
  {
   "cell_type": "code",
   "execution_count": 57,
   "metadata": {},
   "outputs": [
    {
     "name": "stdout",
     "output_type": "stream",
     "text": [
      "<class 'pandas.core.frame.DataFrame'>\n",
      "RangeIndex: 126696 entries, 0 to 126695\n",
      "Data columns (total 6 columns):\n",
      " #   Column      Non-Null Count   Dtype \n",
      "---  ------      --------------   ----- \n",
      " 0   Unnamed: 0  126696 non-null  int64 \n",
      " 1   user_id     126696 non-null  int64 \n",
      " 2   recipe_id   126696 non-null  int64 \n",
      " 3   date        126696 non-null  object\n",
      " 4   rating      126696 non-null  int64 \n",
      " 5   review      126679 non-null  object\n",
      "dtypes: int64(4), object(2)\n",
      "memory usage: 5.8+ MB\n"
     ]
    }
   ],
   "source": [
    "reviews.info()"
   ]
  },
  {
   "cell_type": "markdown",
   "metadata": {},
   "source": [
    "*Как мы видим, датафрейм содержит 126696 строк, 6 столбцов, присутствуют такие типы столбцов, как строковый и целочисленный.*"
   ]
  },
  {
   "cell_type": "markdown",
   "metadata": {},
   "source": [
    "1.3 Исследуйте, в каких столбцах таблиц содержатся пропуски. Посчитайте долю строк, содержащих пропуски, в отношении к общему количеству строк."
   ]
  },
  {
   "cell_type": "markdown",
   "metadata": {},
   "source": [
    "*Посмотрим в какоих столбцах датафрейма recepies содержатся пропуски и в каких количествах:*"
   ]
  },
  {
   "cell_type": "code",
   "execution_count": 58,
   "metadata": {},
   "outputs": [
    {
     "data": {
      "text/plain": [
       "name                  0\n",
       "id                    0\n",
       "minutes               0\n",
       "contributor_id        0\n",
       "submitted             0\n",
       "n_steps           11190\n",
       "description         623\n",
       "n_ingredients      8880\n",
       "dtype: int64"
      ]
     },
     "execution_count": 58,
     "metadata": {},
     "output_type": "execute_result"
    }
   ],
   "source": [
    "recipes.isna().sum()"
   ]
  },
  {
   "cell_type": "markdown",
   "metadata": {},
   "source": [
    "*Посчитаем долю строк, содержащих пропуски, в отношении к общему количеству строк:*"
   ]
  },
  {
   "cell_type": "code",
   "execution_count": 59,
   "metadata": {},
   "outputs": [
    {
     "data": {
      "text/plain": [
       "name              0.000000\n",
       "id                0.000000\n",
       "minutes           0.000000\n",
       "contributor_id    0.000000\n",
       "submitted         0.000000\n",
       "n_steps           0.373000\n",
       "description       0.020767\n",
       "n_ingredients     0.296000\n",
       "dtype: float64"
      ]
     },
     "execution_count": 59,
     "metadata": {},
     "output_type": "execute_result"
    }
   ],
   "source": [
    "recipes.isna().sum()/len(recipes)"
   ]
  },
  {
   "cell_type": "markdown",
   "metadata": {},
   "source": [
    "*Проделаем то же самое для датафрейма reviews:*"
   ]
  },
  {
   "cell_type": "code",
   "execution_count": 60,
   "metadata": {},
   "outputs": [
    {
     "data": {
      "text/plain": [
       "Unnamed: 0     0\n",
       "user_id        0\n",
       "recipe_id      0\n",
       "date           0\n",
       "rating         0\n",
       "review        17\n",
       "dtype: int64"
      ]
     },
     "execution_count": 60,
     "metadata": {},
     "output_type": "execute_result"
    }
   ],
   "source": [
    "reviews.isna().sum()"
   ]
  },
  {
   "cell_type": "code",
   "execution_count": 61,
   "metadata": {},
   "outputs": [
    {
     "data": {
      "text/plain": [
       "Unnamed: 0    0.000000\n",
       "user_id       0.000000\n",
       "recipe_id     0.000000\n",
       "date          0.000000\n",
       "rating        0.000000\n",
       "review        0.000134\n",
       "dtype: float64"
      ]
     },
     "execution_count": 61,
     "metadata": {},
     "output_type": "execute_result"
    }
   ],
   "source": [
    "reviews.isna().sum()/len(reviews)"
   ]
  },
  {
   "cell_type": "markdown",
   "metadata": {},
   "source": [
    "1.4 Рассчитайте среднее значение для каждого из числовых столбцов (где это имеет смысл)."
   ]
  },
  {
   "cell_type": "code",
   "execution_count": 62,
   "metadata": {
    "scrolled": true
   },
   "outputs": [
    {
     "data": {
      "text/plain": [
       "minutes          123.358133\n",
       "n_steps            9.805582\n",
       "n_ingredients      9.008286\n",
       "dtype: float64"
      ]
     },
     "execution_count": 62,
     "metadata": {},
     "output_type": "execute_result"
    }
   ],
   "source": [
    "recipes[['minutes','n_steps', 'n_ingredients']].mean()"
   ]
  },
  {
   "cell_type": "code",
   "execution_count": 63,
   "metadata": {},
   "outputs": [
    {
     "data": {
      "text/plain": [
       "4.410802235271832"
      ]
     },
     "execution_count": 63,
     "metadata": {},
     "output_type": "execute_result"
    }
   ],
   "source": [
    "reviews['rating'].mean()"
   ]
  },
  {
   "cell_type": "markdown",
   "metadata": {},
   "source": [
    "1.5 Создайте серию из 10 случайных названий рецептов."
   ]
  },
  {
   "cell_type": "code",
   "execution_count": 64,
   "metadata": {},
   "outputs": [
    {
     "data": {
      "text/plain": [
       "12491                               grapes in kirsch cream\n",
       "3682                                   breaded cauliflower\n",
       "11846    garlic roasted broccoli drizzled with balsamic...\n",
       "12374                      grandma d s chicken noodle soup\n",
       "23319                              sancocho new york style\n",
       "5903                                      chicken picquant\n",
       "7186                                    classic onion soup\n",
       "8270                             creamy herb dijon chicken\n",
       "21226              pork chops with tangy red currant sauce\n",
       "28900     vine ripened tomato  sweet onion and basil salad\n",
       "Name: name, dtype: object"
      ]
     },
     "execution_count": 64,
     "metadata": {},
     "output_type": "execute_result"
    }
   ],
   "source": [
    "recepiesSample = recipes.name.sample(10)\n",
    "recepiesSample"
   ]
  },
  {
   "cell_type": "markdown",
   "metadata": {},
   "source": [
    "1.6 Измените индекс в таблице `reviews`, пронумеровав строки, начиная с нуля."
   ]
  },
  {
   "cell_type": "code",
   "execution_count": 65,
   "metadata": {},
   "outputs": [
    {
     "data": {
      "text/html": [
       "<div>\n",
       "<style scoped>\n",
       "    .dataframe tbody tr th:only-of-type {\n",
       "        vertical-align: middle;\n",
       "    }\n",
       "\n",
       "    .dataframe tbody tr th {\n",
       "        vertical-align: top;\n",
       "    }\n",
       "\n",
       "    .dataframe thead th {\n",
       "        text-align: right;\n",
       "    }\n",
       "</style>\n",
       "<table border=\"1\" class=\"dataframe\">\n",
       "  <thead>\n",
       "    <tr style=\"text-align: right;\">\n",
       "      <th></th>\n",
       "      <th>Unnamed: 0</th>\n",
       "      <th>user_id</th>\n",
       "      <th>recipe_id</th>\n",
       "      <th>date</th>\n",
       "      <th>rating</th>\n",
       "      <th>review</th>\n",
       "    </tr>\n",
       "  </thead>\n",
       "  <tbody>\n",
       "    <tr>\n",
       "      <th>0</th>\n",
       "      <td>370476</td>\n",
       "      <td>21752</td>\n",
       "      <td>57993</td>\n",
       "      <td>2003-05-01</td>\n",
       "      <td>5</td>\n",
       "      <td>Last week whole sides of frozen salmon fillet ...</td>\n",
       "    </tr>\n",
       "    <tr>\n",
       "      <th>1</th>\n",
       "      <td>624300</td>\n",
       "      <td>431813</td>\n",
       "      <td>142201</td>\n",
       "      <td>2007-09-16</td>\n",
       "      <td>5</td>\n",
       "      <td>So simple and so tasty!  I used a yellow capsi...</td>\n",
       "    </tr>\n",
       "    <tr>\n",
       "      <th>2</th>\n",
       "      <td>187037</td>\n",
       "      <td>400708</td>\n",
       "      <td>252013</td>\n",
       "      <td>2008-01-10</td>\n",
       "      <td>4</td>\n",
       "      <td>Very nice breakfast HH, easy to make and yummy...</td>\n",
       "    </tr>\n",
       "    <tr>\n",
       "      <th>3</th>\n",
       "      <td>706134</td>\n",
       "      <td>2001852463</td>\n",
       "      <td>404716</td>\n",
       "      <td>2017-12-11</td>\n",
       "      <td>5</td>\n",
       "      <td>These are a favorite for the holidays and so e...</td>\n",
       "    </tr>\n",
       "    <tr>\n",
       "      <th>4</th>\n",
       "      <td>312179</td>\n",
       "      <td>95810</td>\n",
       "      <td>129396</td>\n",
       "      <td>2008-03-14</td>\n",
       "      <td>5</td>\n",
       "      <td>Excellent soup!  The tomato flavor is just gre...</td>\n",
       "    </tr>\n",
       "    <tr>\n",
       "      <th>...</th>\n",
       "      <td>...</td>\n",
       "      <td>...</td>\n",
       "      <td>...</td>\n",
       "      <td>...</td>\n",
       "      <td>...</td>\n",
       "      <td>...</td>\n",
       "    </tr>\n",
       "    <tr>\n",
       "      <th>126691</th>\n",
       "      <td>1013457</td>\n",
       "      <td>1270706</td>\n",
       "      <td>335534</td>\n",
       "      <td>2009-05-17</td>\n",
       "      <td>4</td>\n",
       "      <td>This recipe was great! I made it last night. I...</td>\n",
       "    </tr>\n",
       "    <tr>\n",
       "      <th>126692</th>\n",
       "      <td>158736</td>\n",
       "      <td>2282344</td>\n",
       "      <td>8701</td>\n",
       "      <td>2012-06-03</td>\n",
       "      <td>0</td>\n",
       "      <td>This recipe is outstanding. I followed the rec...</td>\n",
       "    </tr>\n",
       "    <tr>\n",
       "      <th>126693</th>\n",
       "      <td>1059834</td>\n",
       "      <td>689540</td>\n",
       "      <td>222001</td>\n",
       "      <td>2008-04-08</td>\n",
       "      <td>5</td>\n",
       "      <td>Well, we were not a crowd but it was a fabulou...</td>\n",
       "    </tr>\n",
       "    <tr>\n",
       "      <th>126694</th>\n",
       "      <td>453285</td>\n",
       "      <td>2000242659</td>\n",
       "      <td>354979</td>\n",
       "      <td>2015-06-02</td>\n",
       "      <td>5</td>\n",
       "      <td>I have been a steak eater and dedicated BBQ gr...</td>\n",
       "    </tr>\n",
       "    <tr>\n",
       "      <th>126695</th>\n",
       "      <td>691207</td>\n",
       "      <td>463435</td>\n",
       "      <td>415599</td>\n",
       "      <td>2010-09-30</td>\n",
       "      <td>5</td>\n",
       "      <td>Wonderful and simple to prepare seasoning blen...</td>\n",
       "    </tr>\n",
       "  </tbody>\n",
       "</table>\n",
       "<p>126696 rows × 6 columns</p>\n",
       "</div>"
      ],
      "text/plain": [
       "        Unnamed: 0     user_id  recipe_id        date  rating  \\\n",
       "0           370476       21752      57993  2003-05-01       5   \n",
       "1           624300      431813     142201  2007-09-16       5   \n",
       "2           187037      400708     252013  2008-01-10       4   \n",
       "3           706134  2001852463     404716  2017-12-11       5   \n",
       "4           312179       95810     129396  2008-03-14       5   \n",
       "...            ...         ...        ...         ...     ...   \n",
       "126691     1013457     1270706     335534  2009-05-17       4   \n",
       "126692      158736     2282344       8701  2012-06-03       0   \n",
       "126693     1059834      689540     222001  2008-04-08       5   \n",
       "126694      453285  2000242659     354979  2015-06-02       5   \n",
       "126695      691207      463435     415599  2010-09-30       5   \n",
       "\n",
       "                                                   review  \n",
       "0       Last week whole sides of frozen salmon fillet ...  \n",
       "1       So simple and so tasty!  I used a yellow capsi...  \n",
       "2       Very nice breakfast HH, easy to make and yummy...  \n",
       "3       These are a favorite for the holidays and so e...  \n",
       "4       Excellent soup!  The tomato flavor is just gre...  \n",
       "...                                                   ...  \n",
       "126691  This recipe was great! I made it last night. I...  \n",
       "126692  This recipe is outstanding. I followed the rec...  \n",
       "126693  Well, we were not a crowd but it was a fabulou...  \n",
       "126694  I have been a steak eater and dedicated BBQ gr...  \n",
       "126695  Wonderful and simple to prepare seasoning blen...  \n",
       "\n",
       "[126696 rows x 6 columns]"
      ]
     },
     "execution_count": 65,
     "metadata": {},
     "output_type": "execute_result"
    }
   ],
   "source": [
    "reviews = reviews.reindex()\n",
    "reviews"
   ]
  },
  {
   "cell_type": "markdown",
   "metadata": {},
   "source": [
    "1.7 Выведите информацию о рецептах, время выполнения которых не больше 20 минут и кол-во ингредиентов в которых не больше 5."
   ]
  },
  {
   "cell_type": "code",
   "execution_count": 66,
   "metadata": {},
   "outputs": [
    {
     "data": {
      "text/html": [
       "<div>\n",
       "<style scoped>\n",
       "    .dataframe tbody tr th:only-of-type {\n",
       "        vertical-align: middle;\n",
       "    }\n",
       "\n",
       "    .dataframe tbody tr th {\n",
       "        vertical-align: top;\n",
       "    }\n",
       "\n",
       "    .dataframe thead th {\n",
       "        text-align: right;\n",
       "    }\n",
       "</style>\n",
       "<table border=\"1\" class=\"dataframe\">\n",
       "  <thead>\n",
       "    <tr style=\"text-align: right;\">\n",
       "      <th></th>\n",
       "      <th>name</th>\n",
       "      <th>id</th>\n",
       "      <th>minutes</th>\n",
       "      <th>contributor_id</th>\n",
       "      <th>submitted</th>\n",
       "      <th>n_steps</th>\n",
       "      <th>description</th>\n",
       "      <th>n_ingredients</th>\n",
       "    </tr>\n",
       "  </thead>\n",
       "  <tbody>\n",
       "    <tr>\n",
       "      <th>7</th>\n",
       "      <td>say what   banana sandwich</td>\n",
       "      <td>95926</td>\n",
       "      <td>5</td>\n",
       "      <td>118163</td>\n",
       "      <td>2004-07-20</td>\n",
       "      <td>4.0</td>\n",
       "      <td>you just have to try it to believe it.</td>\n",
       "      <td>NaN</td>\n",
       "    </tr>\n",
       "    <tr>\n",
       "      <th>37</th>\n",
       "      <td>almost  starbucks frappuccino</td>\n",
       "      <td>289671</td>\n",
       "      <td>5</td>\n",
       "      <td>89831</td>\n",
       "      <td>2008-03-02</td>\n",
       "      <td>6.0</td>\n",
       "      <td>since i serve this is very large glasses i hav...</td>\n",
       "      <td>6.0</td>\n",
       "    </tr>\n",
       "    <tr>\n",
       "      <th>38</th>\n",
       "      <td>amish  cake frosting   icing</td>\n",
       "      <td>44050</td>\n",
       "      <td>5</td>\n",
       "      <td>41706</td>\n",
       "      <td>2002-10-25</td>\n",
       "      <td>NaN</td>\n",
       "      <td>yummmmmy! my amish mother-in-law shared this p...</td>\n",
       "      <td>NaN</td>\n",
       "    </tr>\n",
       "    <tr>\n",
       "      <th>46</th>\n",
       "      <td>fraicheur  vinaigrette</td>\n",
       "      <td>367987</td>\n",
       "      <td>5</td>\n",
       "      <td>797706</td>\n",
       "      <td>2009-04-26</td>\n",
       "      <td>NaN</td>\n",
       "      <td>this is a lovely salad dressing from a local g...</td>\n",
       "      <td>7.0</td>\n",
       "    </tr>\n",
       "    <tr>\n",
       "      <th>77</th>\n",
       "      <td>spring in your step  smoothie  raw food</td>\n",
       "      <td>327979</td>\n",
       "      <td>5</td>\n",
       "      <td>424680</td>\n",
       "      <td>2008-09-30</td>\n",
       "      <td>2.0</td>\n",
       "      <td>this recipe was pulled off the internet.</td>\n",
       "      <td>NaN</td>\n",
       "    </tr>\n",
       "    <tr>\n",
       "      <th>...</th>\n",
       "      <td>...</td>\n",
       "      <td>...</td>\n",
       "      <td>...</td>\n",
       "      <td>...</td>\n",
       "      <td>...</td>\n",
       "      <td>...</td>\n",
       "      <td>...</td>\n",
       "      <td>...</td>\n",
       "    </tr>\n",
       "    <tr>\n",
       "      <th>29794</th>\n",
       "      <td>yummy tuna salad</td>\n",
       "      <td>207363</td>\n",
       "      <td>5</td>\n",
       "      <td>319738</td>\n",
       "      <td>2007-01-23</td>\n",
       "      <td>2.0</td>\n",
       "      <td>this is my version of tuna salad.  great as a ...</td>\n",
       "      <td>NaN</td>\n",
       "    </tr>\n",
       "    <tr>\n",
       "      <th>29798</th>\n",
       "      <td>yummy  scrummy banana shake</td>\n",
       "      <td>173389</td>\n",
       "      <td>5</td>\n",
       "      <td>322326</td>\n",
       "      <td>2006-06-17</td>\n",
       "      <td>NaN</td>\n",
       "      <td>there are no other words for it, it is yummy, ...</td>\n",
       "      <td>5.0</td>\n",
       "    </tr>\n",
       "    <tr>\n",
       "      <th>29817</th>\n",
       "      <td>zen wine spritzer</td>\n",
       "      <td>498523</td>\n",
       "      <td>1</td>\n",
       "      <td>2585084</td>\n",
       "      <td>2013-04-06</td>\n",
       "      <td>3.0</td>\n",
       "      <td>this is a light and refreshing beverage that i...</td>\n",
       "      <td>4.0</td>\n",
       "    </tr>\n",
       "    <tr>\n",
       "      <th>29831</th>\n",
       "      <td>zesty crouton salad</td>\n",
       "      <td>343767</td>\n",
       "      <td>5</td>\n",
       "      <td>166642</td>\n",
       "      <td>2008-12-15</td>\n",
       "      <td>NaN</td>\n",
       "      <td>i love croutons so i had to save this recipe f...</td>\n",
       "      <td>7.0</td>\n",
       "    </tr>\n",
       "    <tr>\n",
       "      <th>29877</th>\n",
       "      <td>zippy beef tips</td>\n",
       "      <td>206335</td>\n",
       "      <td>5</td>\n",
       "      <td>57915</td>\n",
       "      <td>2007-01-19</td>\n",
       "      <td>5.0</td>\n",
       "      <td>i got this recipe from another site and though...</td>\n",
       "      <td>NaN</td>\n",
       "    </tr>\n",
       "  </tbody>\n",
       "</table>\n",
       "<p>1942 rows × 8 columns</p>\n",
       "</div>"
      ],
      "text/plain": [
       "                                          name      id  minutes  \\\n",
       "7                   say what   banana sandwich   95926        5   \n",
       "37               almost  starbucks frappuccino  289671        5   \n",
       "38                amish  cake frosting   icing   44050        5   \n",
       "46                      fraicheur  vinaigrette  367987        5   \n",
       "77     spring in your step  smoothie  raw food  327979        5   \n",
       "...                                        ...     ...      ...   \n",
       "29794                         yummy tuna salad  207363        5   \n",
       "29798              yummy  scrummy banana shake  173389        5   \n",
       "29817                        zen wine spritzer  498523        1   \n",
       "29831                      zesty crouton salad  343767        5   \n",
       "29877                          zippy beef tips  206335        5   \n",
       "\n",
       "       contributor_id   submitted  n_steps  \\\n",
       "7              118163  2004-07-20      4.0   \n",
       "37              89831  2008-03-02      6.0   \n",
       "38              41706  2002-10-25      NaN   \n",
       "46             797706  2009-04-26      NaN   \n",
       "77             424680  2008-09-30      2.0   \n",
       "...               ...         ...      ...   \n",
       "29794          319738  2007-01-23      2.0   \n",
       "29798          322326  2006-06-17      NaN   \n",
       "29817         2585084  2013-04-06      3.0   \n",
       "29831          166642  2008-12-15      NaN   \n",
       "29877           57915  2007-01-19      5.0   \n",
       "\n",
       "                                             description  n_ingredients  \n",
       "7                 you just have to try it to believe it.            NaN  \n",
       "37     since i serve this is very large glasses i hav...            6.0  \n",
       "38     yummmmmy! my amish mother-in-law shared this p...            NaN  \n",
       "46     this is a lovely salad dressing from a local g...            7.0  \n",
       "77              this recipe was pulled off the internet.            NaN  \n",
       "...                                                  ...            ...  \n",
       "29794  this is my version of tuna salad.  great as a ...            NaN  \n",
       "29798  there are no other words for it, it is yummy, ...            5.0  \n",
       "29817  this is a light and refreshing beverage that i...            4.0  \n",
       "29831  i love croutons so i had to save this recipe f...            7.0  \n",
       "29877  i got this recipe from another site and though...            NaN  \n",
       "\n",
       "[1942 rows x 8 columns]"
      ]
     },
     "execution_count": 66,
     "metadata": {},
     "output_type": "execute_result"
    }
   ],
   "source": [
    "recipes[recipes.minutes <= 5]"
   ]
  },
  {
   "cell_type": "markdown",
   "metadata": {},
   "source": [
    "### Работа с датами в `pandas`"
   ]
  },
  {
   "cell_type": "markdown",
   "metadata": {},
   "source": [
    "2.1 Преобразуйте столбец `submitted` из таблицы `recipes` в формат времени. Модифицируйте решение задачи 1.1 так, чтобы считать столбец сразу в нужном формате.\n",
    "\n",
    "*Преобразуем тип столбца с помощью метода to_datetime библиотеки pandas и посмотрим на результат*"
   ]
  },
  {
   "cell_type": "code",
   "execution_count": 67,
   "metadata": {
    "scrolled": false
   },
   "outputs": [
    {
     "data": {
      "text/plain": [
       "name                      object\n",
       "id                         int64\n",
       "minutes                    int64\n",
       "contributor_id             int64\n",
       "submitted         datetime64[ns]\n",
       "n_steps                  float64\n",
       "description               object\n",
       "n_ingredients            float64\n",
       "dtype: object"
      ]
     },
     "execution_count": 67,
     "metadata": {},
     "output_type": "execute_result"
    }
   ],
   "source": [
    "recipes.submitted = pd.to_datetime(recipes.submitted)\n",
    "recipes.dtypes"
   ]
  },
  {
   "cell_type": "markdown",
   "metadata": {},
   "source": [
    "*Посмотрим на получившиеся значения*"
   ]
  },
  {
   "cell_type": "code",
   "execution_count": 68,
   "metadata": {},
   "outputs": [
    {
     "data": {
      "text/html": [
       "<div>\n",
       "<style scoped>\n",
       "    .dataframe tbody tr th:only-of-type {\n",
       "        vertical-align: middle;\n",
       "    }\n",
       "\n",
       "    .dataframe tbody tr th {\n",
       "        vertical-align: top;\n",
       "    }\n",
       "\n",
       "    .dataframe thead th {\n",
       "        text-align: right;\n",
       "    }\n",
       "</style>\n",
       "<table border=\"1\" class=\"dataframe\">\n",
       "  <thead>\n",
       "    <tr style=\"text-align: right;\">\n",
       "      <th></th>\n",
       "      <th>name</th>\n",
       "      <th>id</th>\n",
       "      <th>minutes</th>\n",
       "      <th>contributor_id</th>\n",
       "      <th>submitted</th>\n",
       "      <th>n_steps</th>\n",
       "      <th>description</th>\n",
       "      <th>n_ingredients</th>\n",
       "    </tr>\n",
       "  </thead>\n",
       "  <tbody>\n",
       "    <tr>\n",
       "      <th>2629</th>\n",
       "      <td>beef fajita burrito</td>\n",
       "      <td>340257</td>\n",
       "      <td>15</td>\n",
       "      <td>1018770</td>\n",
       "      <td>2008-11-30</td>\n",
       "      <td>NaN</td>\n",
       "      <td>serves 4</td>\n",
       "      <td>NaN</td>\n",
       "    </tr>\n",
       "    <tr>\n",
       "      <th>20759</th>\n",
       "      <td>pimiento cheese sandwich spread</td>\n",
       "      <td>56474</td>\n",
       "      <td>15</td>\n",
       "      <td>66321</td>\n",
       "      <td>2003-03-17</td>\n",
       "      <td>2.0</td>\n",
       "      <td>found this recipe in an old southern cookbook-...</td>\n",
       "      <td>5.0</td>\n",
       "    </tr>\n",
       "    <tr>\n",
       "      <th>6828</th>\n",
       "      <td>chocolate peanut butter cookies</td>\n",
       "      <td>322287</td>\n",
       "      <td>25</td>\n",
       "      <td>780172</td>\n",
       "      <td>2008-08-30</td>\n",
       "      <td>7.0</td>\n",
       "      <td>these are so easy kids can make them, perfect ...</td>\n",
       "      <td>NaN</td>\n",
       "    </tr>\n",
       "    <tr>\n",
       "      <th>28419</th>\n",
       "      <td>uncle bill s corn on the cob   microwave</td>\n",
       "      <td>132249</td>\n",
       "      <td>6</td>\n",
       "      <td>27416</td>\n",
       "      <td>2005-08-03</td>\n",
       "      <td>10.0</td>\n",
       "      <td>this is such a simple way of preparing and coo...</td>\n",
       "      <td>4.0</td>\n",
       "    </tr>\n",
       "    <tr>\n",
       "      <th>1439</th>\n",
       "      <td>authentic spanish sangria</td>\n",
       "      <td>148073</td>\n",
       "      <td>10</td>\n",
       "      <td>272641</td>\n",
       "      <td>2005-12-12</td>\n",
       "      <td>NaN</td>\n",
       "      <td>i'm sick of getting american sangria that's ju...</td>\n",
       "      <td>8.0</td>\n",
       "    </tr>\n",
       "  </tbody>\n",
       "</table>\n",
       "</div>"
      ],
      "text/plain": [
       "                                           name      id  minutes  \\\n",
       "2629                        beef fajita burrito  340257       15   \n",
       "20759           pimiento cheese sandwich spread   56474       15   \n",
       "6828            chocolate peanut butter cookies  322287       25   \n",
       "28419  uncle bill s corn on the cob   microwave  132249        6   \n",
       "1439                  authentic spanish sangria  148073       10   \n",
       "\n",
       "       contributor_id  submitted  n_steps  \\\n",
       "2629          1018770 2008-11-30      NaN   \n",
       "20759           66321 2003-03-17      2.0   \n",
       "6828           780172 2008-08-30      7.0   \n",
       "28419           27416 2005-08-03     10.0   \n",
       "1439           272641 2005-12-12      NaN   \n",
       "\n",
       "                                             description  n_ingredients  \n",
       "2629                                            serves 4            NaN  \n",
       "20759  found this recipe in an old southern cookbook-...            5.0  \n",
       "6828   these are so easy kids can make them, perfect ...            NaN  \n",
       "28419  this is such a simple way of preparing and coo...            4.0  \n",
       "1439   i'm sick of getting american sangria that's ju...            8.0  "
      ]
     },
     "execution_count": 68,
     "metadata": {},
     "output_type": "execute_result"
    }
   ],
   "source": [
    "recipes.sample(5)"
   ]
  },
  {
   "cell_type": "markdown",
   "metadata": {},
   "source": [
    "*Загрузим столбец в нужном формате сразу и посмотрим на результат:*"
   ]
  },
  {
   "cell_type": "code",
   "execution_count": 69,
   "metadata": {
    "scrolled": false
   },
   "outputs": [
    {
     "data": {
      "text/plain": [
       "name                      object\n",
       "id                         int64\n",
       "minutes                    int64\n",
       "contributor_id             int64\n",
       "submitted         datetime64[ns]\n",
       "n_steps                  float64\n",
       "description               object\n",
       "n_ingredients            float64\n",
       "dtype: object"
      ]
     },
     "execution_count": 69,
     "metadata": {},
     "output_type": "execute_result"
    }
   ],
   "source": [
    "recipes_with_date = pd.read_csv('./recipes_sample.csv', parse_dates=['submitted'])\n",
    "recipes_with_date.dtypes"
   ]
  },
  {
   "cell_type": "code",
   "execution_count": 70,
   "metadata": {},
   "outputs": [
    {
     "data": {
      "text/html": [
       "<div>\n",
       "<style scoped>\n",
       "    .dataframe tbody tr th:only-of-type {\n",
       "        vertical-align: middle;\n",
       "    }\n",
       "\n",
       "    .dataframe tbody tr th {\n",
       "        vertical-align: top;\n",
       "    }\n",
       "\n",
       "    .dataframe thead th {\n",
       "        text-align: right;\n",
       "    }\n",
       "</style>\n",
       "<table border=\"1\" class=\"dataframe\">\n",
       "  <thead>\n",
       "    <tr style=\"text-align: right;\">\n",
       "      <th></th>\n",
       "      <th>name</th>\n",
       "      <th>id</th>\n",
       "      <th>minutes</th>\n",
       "      <th>contributor_id</th>\n",
       "      <th>submitted</th>\n",
       "      <th>n_steps</th>\n",
       "      <th>description</th>\n",
       "      <th>n_ingredients</th>\n",
       "    </tr>\n",
       "  </thead>\n",
       "  <tbody>\n",
       "    <tr>\n",
       "      <th>21899</th>\n",
       "      <td>quick barley soup</td>\n",
       "      <td>236129</td>\n",
       "      <td>30</td>\n",
       "      <td>412186</td>\n",
       "      <td>2007-06-20</td>\n",
       "      <td>3.0</td>\n",
       "      <td>easy with just a few ingredients.the fresh veg...</td>\n",
       "      <td>7.0</td>\n",
       "    </tr>\n",
       "    <tr>\n",
       "      <th>16142</th>\n",
       "      <td>light scalloped potatoes</td>\n",
       "      <td>55506</td>\n",
       "      <td>80</td>\n",
       "      <td>61388</td>\n",
       "      <td>2003-03-03</td>\n",
       "      <td>NaN</td>\n",
       "      <td>that's right -- a lighter version of scalloped...</td>\n",
       "      <td>6.0</td>\n",
       "    </tr>\n",
       "    <tr>\n",
       "      <th>2691</th>\n",
       "      <td>beef tips on rice   pressure cooker</td>\n",
       "      <td>402156</td>\n",
       "      <td>45</td>\n",
       "      <td>1461806</td>\n",
       "      <td>2009-12-01</td>\n",
       "      <td>9.0</td>\n",
       "      <td>a pressure cooker makes this much faster.</td>\n",
       "      <td>11.0</td>\n",
       "    </tr>\n",
       "    <tr>\n",
       "      <th>25026</th>\n",
       "      <td>soutzoukakia  mini greek meatballs</td>\n",
       "      <td>433324</td>\n",
       "      <td>85</td>\n",
       "      <td>1138444</td>\n",
       "      <td>2010-07-27</td>\n",
       "      <td>12.0</td>\n",
       "      <td>this is my husband's favorite dish!  most of t...</td>\n",
       "      <td>15.0</td>\n",
       "    </tr>\n",
       "    <tr>\n",
       "      <th>15974</th>\n",
       "      <td>lemon verbena blueberry scones</td>\n",
       "      <td>430349</td>\n",
       "      <td>40</td>\n",
       "      <td>177443</td>\n",
       "      <td>2010-06-19</td>\n",
       "      <td>24.0</td>\n",
       "      <td>i have an abundance of lemon verbena growing i...</td>\n",
       "      <td>13.0</td>\n",
       "    </tr>\n",
       "  </tbody>\n",
       "</table>\n",
       "</div>"
      ],
      "text/plain": [
       "                                      name      id  minutes  contributor_id  \\\n",
       "21899                    quick barley soup  236129       30          412186   \n",
       "16142             light scalloped potatoes   55506       80           61388   \n",
       "2691   beef tips on rice   pressure cooker  402156       45         1461806   \n",
       "25026   soutzoukakia  mini greek meatballs  433324       85         1138444   \n",
       "15974       lemon verbena blueberry scones  430349       40          177443   \n",
       "\n",
       "       submitted  n_steps                                        description  \\\n",
       "21899 2007-06-20      3.0  easy with just a few ingredients.the fresh veg...   \n",
       "16142 2003-03-03      NaN  that's right -- a lighter version of scalloped...   \n",
       "2691  2009-12-01      9.0          a pressure cooker makes this much faster.   \n",
       "25026 2010-07-27     12.0  this is my husband's favorite dish!  most of t...   \n",
       "15974 2010-06-19     24.0  i have an abundance of lemon verbena growing i...   \n",
       "\n",
       "       n_ingredients  \n",
       "21899            7.0  \n",
       "16142            6.0  \n",
       "2691            11.0  \n",
       "25026           15.0  \n",
       "15974           13.0  "
      ]
     },
     "execution_count": 70,
     "metadata": {},
     "output_type": "execute_result"
    }
   ],
   "source": [
    "recipes_with_date.sample(5)"
   ]
  },
  {
   "cell_type": "markdown",
   "metadata": {},
   "source": [
    "2.2 Выведите информацию о рецептах, добавленных в датасет не позже 2010 года."
   ]
  },
  {
   "cell_type": "code",
   "execution_count": 71,
   "metadata": {},
   "outputs": [
    {
     "data": {
      "text/html": [
       "<div>\n",
       "<style scoped>\n",
       "    .dataframe tbody tr th:only-of-type {\n",
       "        vertical-align: middle;\n",
       "    }\n",
       "\n",
       "    .dataframe tbody tr th {\n",
       "        vertical-align: top;\n",
       "    }\n",
       "\n",
       "    .dataframe thead th {\n",
       "        text-align: right;\n",
       "    }\n",
       "</style>\n",
       "<table border=\"1\" class=\"dataframe\">\n",
       "  <thead>\n",
       "    <tr style=\"text-align: right;\">\n",
       "      <th></th>\n",
       "      <th>name</th>\n",
       "      <th>id</th>\n",
       "      <th>minutes</th>\n",
       "      <th>contributor_id</th>\n",
       "      <th>submitted</th>\n",
       "      <th>n_steps</th>\n",
       "      <th>description</th>\n",
       "      <th>n_ingredients</th>\n",
       "    </tr>\n",
       "  </thead>\n",
       "  <tbody>\n",
       "    <tr>\n",
       "      <th>8</th>\n",
       "      <td>1 in canada chocolate chip cookies</td>\n",
       "      <td>453467</td>\n",
       "      <td>45</td>\n",
       "      <td>1848091</td>\n",
       "      <td>2011-04-11</td>\n",
       "      <td>12.0</td>\n",
       "      <td>this is the recipe that we use at my school ca...</td>\n",
       "      <td>11.0</td>\n",
       "    </tr>\n",
       "    <tr>\n",
       "      <th>13</th>\n",
       "      <td>blepandekager   danish   apple pancakes</td>\n",
       "      <td>503475</td>\n",
       "      <td>50</td>\n",
       "      <td>128473</td>\n",
       "      <td>2013-07-08</td>\n",
       "      <td>10.0</td>\n",
       "      <td>this recipe has been posted here for play in z...</td>\n",
       "      <td>NaN</td>\n",
       "    </tr>\n",
       "    <tr>\n",
       "      <th>36</th>\n",
       "      <td>5 minute bread  pizza</td>\n",
       "      <td>487173</td>\n",
       "      <td>45</td>\n",
       "      <td>2406227</td>\n",
       "      <td>2012-09-19</td>\n",
       "      <td>30.0</td>\n",
       "      <td>my son recently showed me a recipe for artisan...</td>\n",
       "      <td>8.0</td>\n",
       "    </tr>\n",
       "    <tr>\n",
       "      <th>39</th>\n",
       "      <td>bacon cheeseburger and fries  soup</td>\n",
       "      <td>447429</td>\n",
       "      <td>60</td>\n",
       "      <td>1355934</td>\n",
       "      <td>2011-01-26</td>\n",
       "      <td>NaN</td>\n",
       "      <td>my son asked for cheeseburger soup, and having...</td>\n",
       "      <td>17.0</td>\n",
       "    </tr>\n",
       "    <tr>\n",
       "      <th>47</th>\n",
       "      <td>full cool  macaroni and cheese</td>\n",
       "      <td>463219</td>\n",
       "      <td>25</td>\n",
       "      <td>383346</td>\n",
       "      <td>2011-08-28</td>\n",
       "      <td>8.0</td>\n",
       "      <td>a recipe from ricardo that is popular with kid...</td>\n",
       "      <td>11.0</td>\n",
       "    </tr>\n",
       "    <tr>\n",
       "      <th>...</th>\n",
       "      <td>...</td>\n",
       "      <td>...</td>\n",
       "      <td>...</td>\n",
       "      <td>...</td>\n",
       "      <td>...</td>\n",
       "      <td>...</td>\n",
       "      <td>...</td>\n",
       "      <td>...</td>\n",
       "    </tr>\n",
       "    <tr>\n",
       "      <th>29965</th>\n",
       "      <td>zucchini sausage casserole</td>\n",
       "      <td>472482</td>\n",
       "      <td>80</td>\n",
       "      <td>447199</td>\n",
       "      <td>2012-01-20</td>\n",
       "      <td>13.0</td>\n",
       "      <td>this was a real hit with my family! this recip...</td>\n",
       "      <td>NaN</td>\n",
       "    </tr>\n",
       "    <tr>\n",
       "      <th>29976</th>\n",
       "      <td>zucchini tots</td>\n",
       "      <td>505053</td>\n",
       "      <td>20</td>\n",
       "      <td>798181</td>\n",
       "      <td>2013-07-31</td>\n",
       "      <td>NaN</td>\n",
       "      <td>'the happy homemaker blog' shared this recipe ...</td>\n",
       "      <td>NaN</td>\n",
       "    </tr>\n",
       "    <tr>\n",
       "      <th>29992</th>\n",
       "      <td>zucchini  courgette soup  good for weight watc...</td>\n",
       "      <td>415406</td>\n",
       "      <td>45</td>\n",
       "      <td>485109</td>\n",
       "      <td>2010-03-04</td>\n",
       "      <td>5.0</td>\n",
       "      <td>this is a favourite winter warmer. by british ...</td>\n",
       "      <td>NaN</td>\n",
       "    </tr>\n",
       "    <tr>\n",
       "      <th>29994</th>\n",
       "      <td>zuppa by luisa</td>\n",
       "      <td>464576</td>\n",
       "      <td>70</td>\n",
       "      <td>226863</td>\n",
       "      <td>2011-09-20</td>\n",
       "      <td>14.0</td>\n",
       "      <td>this soup is a hearty meal!  from luisa musso.</td>\n",
       "      <td>17.0</td>\n",
       "    </tr>\n",
       "    <tr>\n",
       "      <th>29998</th>\n",
       "      <td>zydeco soup</td>\n",
       "      <td>486161</td>\n",
       "      <td>60</td>\n",
       "      <td>227978</td>\n",
       "      <td>2012-08-29</td>\n",
       "      <td>NaN</td>\n",
       "      <td>this is a delicious soup that i originally fou...</td>\n",
       "      <td>NaN</td>\n",
       "    </tr>\n",
       "  </tbody>\n",
       "</table>\n",
       "<p>3877 rows × 8 columns</p>\n",
       "</div>"
      ],
      "text/plain": [
       "                                                    name      id  minutes  \\\n",
       "8                     1 in canada chocolate chip cookies  453467       45   \n",
       "13               blepandekager   danish   apple pancakes  503475       50   \n",
       "36                                 5 minute bread  pizza  487173       45   \n",
       "39                    bacon cheeseburger and fries  soup  447429       60   \n",
       "47                        full cool  macaroni and cheese  463219       25   \n",
       "...                                                  ...     ...      ...   \n",
       "29965                         zucchini sausage casserole  472482       80   \n",
       "29976                                      zucchini tots  505053       20   \n",
       "29992  zucchini  courgette soup  good for weight watc...  415406       45   \n",
       "29994                                     zuppa by luisa  464576       70   \n",
       "29998                                        zydeco soup  486161       60   \n",
       "\n",
       "       contributor_id  submitted  n_steps  \\\n",
       "8             1848091 2011-04-11     12.0   \n",
       "13             128473 2013-07-08     10.0   \n",
       "36            2406227 2012-09-19     30.0   \n",
       "39            1355934 2011-01-26      NaN   \n",
       "47             383346 2011-08-28      8.0   \n",
       "...               ...        ...      ...   \n",
       "29965          447199 2012-01-20     13.0   \n",
       "29976          798181 2013-07-31      NaN   \n",
       "29992          485109 2010-03-04      5.0   \n",
       "29994          226863 2011-09-20     14.0   \n",
       "29998          227978 2012-08-29      NaN   \n",
       "\n",
       "                                             description  n_ingredients  \n",
       "8      this is the recipe that we use at my school ca...           11.0  \n",
       "13     this recipe has been posted here for play in z...            NaN  \n",
       "36     my son recently showed me a recipe for artisan...            8.0  \n",
       "39     my son asked for cheeseburger soup, and having...           17.0  \n",
       "47     a recipe from ricardo that is popular with kid...           11.0  \n",
       "...                                                  ...            ...  \n",
       "29965  this was a real hit with my family! this recip...            NaN  \n",
       "29976  'the happy homemaker blog' shared this recipe ...            NaN  \n",
       "29992  this is a favourite winter warmer. by british ...            NaN  \n",
       "29994     this soup is a hearty meal!  from luisa musso.           17.0  \n",
       "29998  this is a delicious soup that i originally fou...            NaN  \n",
       "\n",
       "[3877 rows x 8 columns]"
      ]
     },
     "execution_count": 71,
     "metadata": {},
     "output_type": "execute_result"
    }
   ],
   "source": [
    "recipes[recipes.submitted >= '2010-01-01']"
   ]
  },
  {
   "cell_type": "markdown",
   "metadata": {},
   "source": [
    "### Работа со строковыми данными в `pandas`"
   ]
  },
  {
   "cell_type": "markdown",
   "metadata": {},
   "source": [
    "3.1  Добавьте в таблицу `recipes` столбец `description_length`, в котором хранится длина описания рецепта из столбца `description`."
   ]
  },
  {
   "cell_type": "markdown",
   "metadata": {},
   "source": [
    "*Для этого используем метод len() и посмотрим на результат:*"
   ]
  },
  {
   "cell_type": "code",
   "execution_count": 72,
   "metadata": {},
   "outputs": [
    {
     "data": {
      "text/html": [
       "<div>\n",
       "<style scoped>\n",
       "    .dataframe tbody tr th:only-of-type {\n",
       "        vertical-align: middle;\n",
       "    }\n",
       "\n",
       "    .dataframe tbody tr th {\n",
       "        vertical-align: top;\n",
       "    }\n",
       "\n",
       "    .dataframe thead th {\n",
       "        text-align: right;\n",
       "    }\n",
       "</style>\n",
       "<table border=\"1\" class=\"dataframe\">\n",
       "  <thead>\n",
       "    <tr style=\"text-align: right;\">\n",
       "      <th></th>\n",
       "      <th>name</th>\n",
       "      <th>id</th>\n",
       "      <th>minutes</th>\n",
       "      <th>contributor_id</th>\n",
       "      <th>submitted</th>\n",
       "      <th>n_steps</th>\n",
       "      <th>description</th>\n",
       "      <th>n_ingredients</th>\n",
       "      <th>description_length</th>\n",
       "    </tr>\n",
       "  </thead>\n",
       "  <tbody>\n",
       "    <tr>\n",
       "      <th>19689</th>\n",
       "      <td>paifala  american samoa    half moon pies</td>\n",
       "      <td>465662</td>\n",
       "      <td>65</td>\n",
       "      <td>473343</td>\n",
       "      <td>2011-10-07</td>\n",
       "      <td>11.0</td>\n",
       "      <td>this recipe is from week six of my food blog, ...</td>\n",
       "      <td>9.0</td>\n",
       "      <td>266.0</td>\n",
       "    </tr>\n",
       "    <tr>\n",
       "      <th>26540</th>\n",
       "      <td>swedish glogg</td>\n",
       "      <td>169759</td>\n",
       "      <td>60</td>\n",
       "      <td>83093</td>\n",
       "      <td>2006-05-25</td>\n",
       "      <td>9.0</td>\n",
       "      <td>glögg, pronounced gloog, is a high octane, hot...</td>\n",
       "      <td>NaN</td>\n",
       "      <td>647.0</td>\n",
       "    </tr>\n",
       "    <tr>\n",
       "      <th>517</th>\n",
       "      <td>almond flour stevia cookies</td>\n",
       "      <td>519547</td>\n",
       "      <td>28</td>\n",
       "      <td>1489145</td>\n",
       "      <td>2014-11-17</td>\n",
       "      <td>6.0</td>\n",
       "      <td>this is a basic cookie made with real whole fo...</td>\n",
       "      <td>6.0</td>\n",
       "      <td>264.0</td>\n",
       "    </tr>\n",
       "    <tr>\n",
       "      <th>8723</th>\n",
       "      <td>crock pot sweet and sour pork</td>\n",
       "      <td>223281</td>\n",
       "      <td>505</td>\n",
       "      <td>89831</td>\n",
       "      <td>2007-04-17</td>\n",
       "      <td>13.0</td>\n",
       "      <td>this recipe can be adapted to make on top of t...</td>\n",
       "      <td>17.0</td>\n",
       "      <td>127.0</td>\n",
       "    </tr>\n",
       "    <tr>\n",
       "      <th>3268</th>\n",
       "      <td>bleu cheese cold cole slaw</td>\n",
       "      <td>107308</td>\n",
       "      <td>20</td>\n",
       "      <td>81064</td>\n",
       "      <td>2004-12-31</td>\n",
       "      <td>5.0</td>\n",
       "      <td>this tangy cold slaw is served along with garl...</td>\n",
       "      <td>8.0</td>\n",
       "      <td>131.0</td>\n",
       "    </tr>\n",
       "  </tbody>\n",
       "</table>\n",
       "</div>"
      ],
      "text/plain": [
       "                                            name      id  minutes  \\\n",
       "19689  paifala  american samoa    half moon pies  465662       65   \n",
       "26540                              swedish glogg  169759       60   \n",
       "517                  almond flour stevia cookies  519547       28   \n",
       "8723               crock pot sweet and sour pork  223281      505   \n",
       "3268                  bleu cheese cold cole slaw  107308       20   \n",
       "\n",
       "       contributor_id  submitted  n_steps  \\\n",
       "19689          473343 2011-10-07     11.0   \n",
       "26540           83093 2006-05-25      9.0   \n",
       "517           1489145 2014-11-17      6.0   \n",
       "8723            89831 2007-04-17     13.0   \n",
       "3268            81064 2004-12-31      5.0   \n",
       "\n",
       "                                             description  n_ingredients  \\\n",
       "19689  this recipe is from week six of my food blog, ...            9.0   \n",
       "26540  glögg, pronounced gloog, is a high octane, hot...            NaN   \n",
       "517    this is a basic cookie made with real whole fo...            6.0   \n",
       "8723   this recipe can be adapted to make on top of t...           17.0   \n",
       "3268   this tangy cold slaw is served along with garl...            8.0   \n",
       "\n",
       "       description_length  \n",
       "19689               266.0  \n",
       "26540               647.0  \n",
       "517                 264.0  \n",
       "8723                127.0  \n",
       "3268                131.0  "
      ]
     },
     "execution_count": 72,
     "metadata": {},
     "output_type": "execute_result"
    }
   ],
   "source": [
    "recipes['description_length'] = recipes.description.str.len()\n",
    "recipes.sample(5)"
   ]
  },
  {
   "cell_type": "markdown",
   "metadata": {},
   "source": [
    "3.2 Измените название каждого рецепта в таблице `recipes` таким образом, чтобы каждое слово в названии начиналось с прописной буквы."
   ]
  },
  {
   "cell_type": "markdown",
   "metadata": {},
   "source": [
    "*Для этого используем метод title() и посмотрим на результат:*"
   ]
  },
  {
   "cell_type": "code",
   "execution_count": 73,
   "metadata": {},
   "outputs": [
    {
     "data": {
      "text/html": [
       "<div>\n",
       "<style scoped>\n",
       "    .dataframe tbody tr th:only-of-type {\n",
       "        vertical-align: middle;\n",
       "    }\n",
       "\n",
       "    .dataframe tbody tr th {\n",
       "        vertical-align: top;\n",
       "    }\n",
       "\n",
       "    .dataframe thead th {\n",
       "        text-align: right;\n",
       "    }\n",
       "</style>\n",
       "<table border=\"1\" class=\"dataframe\">\n",
       "  <thead>\n",
       "    <tr style=\"text-align: right;\">\n",
       "      <th></th>\n",
       "      <th>name</th>\n",
       "      <th>id</th>\n",
       "      <th>minutes</th>\n",
       "      <th>contributor_id</th>\n",
       "      <th>submitted</th>\n",
       "      <th>n_steps</th>\n",
       "      <th>description</th>\n",
       "      <th>n_ingredients</th>\n",
       "      <th>description_length</th>\n",
       "    </tr>\n",
       "  </thead>\n",
       "  <tbody>\n",
       "    <tr>\n",
       "      <th>22814</th>\n",
       "      <td>Roasted Red Onion Mayo</td>\n",
       "      <td>510337</td>\n",
       "      <td>35</td>\n",
       "      <td>2597942</td>\n",
       "      <td>2013-12-05</td>\n",
       "      <td>12.0</td>\n",
       "      <td>this is a great spread for almost any sandwich...</td>\n",
       "      <td>5.0</td>\n",
       "      <td>487.0</td>\n",
       "    </tr>\n",
       "    <tr>\n",
       "      <th>19035</th>\n",
       "      <td>Old Bay Tilapia  Sweet Potatoes And Veggies</td>\n",
       "      <td>197390</td>\n",
       "      <td>60</td>\n",
       "      <td>374416</td>\n",
       "      <td>2006-11-23</td>\n",
       "      <td>NaN</td>\n",
       "      <td>i'm not a huge fan of the classic sweet potato...</td>\n",
       "      <td>10.0</td>\n",
       "      <td>314.0</td>\n",
       "    </tr>\n",
       "    <tr>\n",
       "      <th>4739</th>\n",
       "      <td>Caribbean Crabmeat Salad With Creamy Gingered ...</td>\n",
       "      <td>146481</td>\n",
       "      <td>15</td>\n",
       "      <td>232669</td>\n",
       "      <td>2005-11-28</td>\n",
       "      <td>5.0</td>\n",
       "      <td>this is so delicious and easy to make. makes a...</td>\n",
       "      <td>16.0</td>\n",
       "      <td>309.0</td>\n",
       "    </tr>\n",
       "    <tr>\n",
       "      <th>29998</th>\n",
       "      <td>Zydeco Soup</td>\n",
       "      <td>486161</td>\n",
       "      <td>60</td>\n",
       "      <td>227978</td>\n",
       "      <td>2012-08-29</td>\n",
       "      <td>NaN</td>\n",
       "      <td>this is a delicious soup that i originally fou...</td>\n",
       "      <td>NaN</td>\n",
       "      <td>648.0</td>\n",
       "    </tr>\n",
       "    <tr>\n",
       "      <th>1577</th>\n",
       "      <td>B   B Homemade Granola</td>\n",
       "      <td>264683</td>\n",
       "      <td>40</td>\n",
       "      <td>621920</td>\n",
       "      <td>2007-11-10</td>\n",
       "      <td>4.0</td>\n",
       "      <td>i got this granola recipe from a lovely countr...</td>\n",
       "      <td>7.0</td>\n",
       "      <td>152.0</td>\n",
       "    </tr>\n",
       "  </tbody>\n",
       "</table>\n",
       "</div>"
      ],
      "text/plain": [
       "                                                    name      id  minutes  \\\n",
       "22814                             Roasted Red Onion Mayo  510337       35   \n",
       "19035        Old Bay Tilapia  Sweet Potatoes And Veggies  197390       60   \n",
       "4739   Caribbean Crabmeat Salad With Creamy Gingered ...  146481       15   \n",
       "29998                                        Zydeco Soup  486161       60   \n",
       "1577                              B   B Homemade Granola  264683       40   \n",
       "\n",
       "       contributor_id  submitted  n_steps  \\\n",
       "22814         2597942 2013-12-05     12.0   \n",
       "19035          374416 2006-11-23      NaN   \n",
       "4739           232669 2005-11-28      5.0   \n",
       "29998          227978 2012-08-29      NaN   \n",
       "1577           621920 2007-11-10      4.0   \n",
       "\n",
       "                                             description  n_ingredients  \\\n",
       "22814  this is a great spread for almost any sandwich...            5.0   \n",
       "19035  i'm not a huge fan of the classic sweet potato...           10.0   \n",
       "4739   this is so delicious and easy to make. makes a...           16.0   \n",
       "29998  this is a delicious soup that i originally fou...            NaN   \n",
       "1577   i got this granola recipe from a lovely countr...            7.0   \n",
       "\n",
       "       description_length  \n",
       "22814               487.0  \n",
       "19035               314.0  \n",
       "4739                309.0  \n",
       "29998               648.0  \n",
       "1577                152.0  "
      ]
     },
     "execution_count": 73,
     "metadata": {},
     "output_type": "execute_result"
    }
   ],
   "source": [
    "recipes.name = recipes.name.str.title()\n",
    "recipes.sample(5)"
   ]
  },
  {
   "cell_type": "markdown",
   "metadata": {},
   "source": [
    "3.3 Добавьте в таблицу `recipes` столбец `name_word_count`, в котором хранится количество слов из названии рецепта (считайте, что слова в названии разделяются только пробелами). Обратите внимание, что между словами может располагаться несколько пробелов подряд."
   ]
  },
  {
   "cell_type": "code",
   "execution_count": 74,
   "metadata": {},
   "outputs": [
    {
     "data": {
      "text/html": [
       "<div>\n",
       "<style scoped>\n",
       "    .dataframe tbody tr th:only-of-type {\n",
       "        vertical-align: middle;\n",
       "    }\n",
       "\n",
       "    .dataframe tbody tr th {\n",
       "        vertical-align: top;\n",
       "    }\n",
       "\n",
       "    .dataframe thead th {\n",
       "        text-align: right;\n",
       "    }\n",
       "</style>\n",
       "<table border=\"1\" class=\"dataframe\">\n",
       "  <thead>\n",
       "    <tr style=\"text-align: right;\">\n",
       "      <th></th>\n",
       "      <th>name</th>\n",
       "      <th>id</th>\n",
       "      <th>minutes</th>\n",
       "      <th>contributor_id</th>\n",
       "      <th>submitted</th>\n",
       "      <th>n_steps</th>\n",
       "      <th>description</th>\n",
       "      <th>n_ingredients</th>\n",
       "      <th>description_length</th>\n",
       "    </tr>\n",
       "  </thead>\n",
       "  <tbody>\n",
       "    <tr>\n",
       "      <th>0</th>\n",
       "      <td>George S At The Cove  Black Bean Soup</td>\n",
       "      <td>44123</td>\n",
       "      <td>90</td>\n",
       "      <td>35193</td>\n",
       "      <td>2002-10-25</td>\n",
       "      <td>NaN</td>\n",
       "      <td>an original recipe created by chef scott meska...</td>\n",
       "      <td>18.0</td>\n",
       "      <td>330.0</td>\n",
       "    </tr>\n",
       "    <tr>\n",
       "      <th>1</th>\n",
       "      <td>Healthy For Them  Yogurt Popsicles</td>\n",
       "      <td>67664</td>\n",
       "      <td>10</td>\n",
       "      <td>91970</td>\n",
       "      <td>2003-07-26</td>\n",
       "      <td>NaN</td>\n",
       "      <td>my children and their friends ask for my homem...</td>\n",
       "      <td>NaN</td>\n",
       "      <td>255.0</td>\n",
       "    </tr>\n",
       "    <tr>\n",
       "      <th>2</th>\n",
       "      <td>I Can T Believe It S Spinach</td>\n",
       "      <td>38798</td>\n",
       "      <td>30</td>\n",
       "      <td>1533</td>\n",
       "      <td>2002-08-29</td>\n",
       "      <td>NaN</td>\n",
       "      <td>these were so go, it surprised even me.</td>\n",
       "      <td>8.0</td>\n",
       "      <td>39.0</td>\n",
       "    </tr>\n",
       "    <tr>\n",
       "      <th>3</th>\n",
       "      <td>Italian  Gut Busters</td>\n",
       "      <td>35173</td>\n",
       "      <td>45</td>\n",
       "      <td>22724</td>\n",
       "      <td>2002-07-27</td>\n",
       "      <td>NaN</td>\n",
       "      <td>my sister-in-law made these for us at a family...</td>\n",
       "      <td>NaN</td>\n",
       "      <td>154.0</td>\n",
       "    </tr>\n",
       "    <tr>\n",
       "      <th>4</th>\n",
       "      <td>Love Is In The Air  Beef Fondue   Sauces</td>\n",
       "      <td>84797</td>\n",
       "      <td>25</td>\n",
       "      <td>4470</td>\n",
       "      <td>2004-02-23</td>\n",
       "      <td>4.0</td>\n",
       "      <td>i think a fondue is a very romantic casual din...</td>\n",
       "      <td>NaN</td>\n",
       "      <td>587.0</td>\n",
       "    </tr>\n",
       "    <tr>\n",
       "      <th>...</th>\n",
       "      <td>...</td>\n",
       "      <td>...</td>\n",
       "      <td>...</td>\n",
       "      <td>...</td>\n",
       "      <td>...</td>\n",
       "      <td>...</td>\n",
       "      <td>...</td>\n",
       "      <td>...</td>\n",
       "      <td>...</td>\n",
       "    </tr>\n",
       "    <tr>\n",
       "      <th>29995</th>\n",
       "      <td>Zurie S Holey Rustic Olive And Cheddar Bread</td>\n",
       "      <td>267661</td>\n",
       "      <td>80</td>\n",
       "      <td>200862</td>\n",
       "      <td>2007-11-25</td>\n",
       "      <td>16.0</td>\n",
       "      <td>this is based on a french recipe but i changed...</td>\n",
       "      <td>10.0</td>\n",
       "      <td>484.0</td>\n",
       "    </tr>\n",
       "    <tr>\n",
       "      <th>29996</th>\n",
       "      <td>Zwetschgenkuchen  Bavarian Plum Cake</td>\n",
       "      <td>386977</td>\n",
       "      <td>240</td>\n",
       "      <td>177443</td>\n",
       "      <td>2009-08-24</td>\n",
       "      <td>NaN</td>\n",
       "      <td>this is a traditional fresh plum cake, thought...</td>\n",
       "      <td>11.0</td>\n",
       "      <td>286.0</td>\n",
       "    </tr>\n",
       "    <tr>\n",
       "      <th>29997</th>\n",
       "      <td>Zwiebelkuchen   Southwest German Onion Cake</td>\n",
       "      <td>103312</td>\n",
       "      <td>75</td>\n",
       "      <td>161745</td>\n",
       "      <td>2004-11-03</td>\n",
       "      <td>NaN</td>\n",
       "      <td>this is a traditional late summer early fall s...</td>\n",
       "      <td>NaN</td>\n",
       "      <td>311.0</td>\n",
       "    </tr>\n",
       "    <tr>\n",
       "      <th>29998</th>\n",
       "      <td>Zydeco Soup</td>\n",
       "      <td>486161</td>\n",
       "      <td>60</td>\n",
       "      <td>227978</td>\n",
       "      <td>2012-08-29</td>\n",
       "      <td>NaN</td>\n",
       "      <td>this is a delicious soup that i originally fou...</td>\n",
       "      <td>NaN</td>\n",
       "      <td>648.0</td>\n",
       "    </tr>\n",
       "    <tr>\n",
       "      <th>29999</th>\n",
       "      <td>Cookies By Design   Cookies On A Stick</td>\n",
       "      <td>298512</td>\n",
       "      <td>29</td>\n",
       "      <td>506822</td>\n",
       "      <td>2008-04-15</td>\n",
       "      <td>9.0</td>\n",
       "      <td>i've heard of the 'cookies by design' company,...</td>\n",
       "      <td>10.0</td>\n",
       "      <td>125.0</td>\n",
       "    </tr>\n",
       "  </tbody>\n",
       "</table>\n",
       "<p>30000 rows × 9 columns</p>\n",
       "</div>"
      ],
      "text/plain": [
       "                                               name      id  minutes  \\\n",
       "0             George S At The Cove  Black Bean Soup   44123       90   \n",
       "1                Healthy For Them  Yogurt Popsicles   67664       10   \n",
       "2                      I Can T Believe It S Spinach   38798       30   \n",
       "3                              Italian  Gut Busters   35173       45   \n",
       "4          Love Is In The Air  Beef Fondue   Sauces   84797       25   \n",
       "...                                             ...     ...      ...   \n",
       "29995  Zurie S Holey Rustic Olive And Cheddar Bread  267661       80   \n",
       "29996          Zwetschgenkuchen  Bavarian Plum Cake  386977      240   \n",
       "29997   Zwiebelkuchen   Southwest German Onion Cake  103312       75   \n",
       "29998                                   Zydeco Soup  486161       60   \n",
       "29999        Cookies By Design   Cookies On A Stick  298512       29   \n",
       "\n",
       "       contributor_id  submitted  n_steps  \\\n",
       "0               35193 2002-10-25      NaN   \n",
       "1               91970 2003-07-26      NaN   \n",
       "2                1533 2002-08-29      NaN   \n",
       "3               22724 2002-07-27      NaN   \n",
       "4                4470 2004-02-23      4.0   \n",
       "...               ...        ...      ...   \n",
       "29995          200862 2007-11-25     16.0   \n",
       "29996          177443 2009-08-24      NaN   \n",
       "29997          161745 2004-11-03      NaN   \n",
       "29998          227978 2012-08-29      NaN   \n",
       "29999          506822 2008-04-15      9.0   \n",
       "\n",
       "                                             description  n_ingredients  \\\n",
       "0      an original recipe created by chef scott meska...           18.0   \n",
       "1      my children and their friends ask for my homem...            NaN   \n",
       "2                these were so go, it surprised even me.            8.0   \n",
       "3      my sister-in-law made these for us at a family...            NaN   \n",
       "4      i think a fondue is a very romantic casual din...            NaN   \n",
       "...                                                  ...            ...   \n",
       "29995  this is based on a french recipe but i changed...           10.0   \n",
       "29996  this is a traditional fresh plum cake, thought...           11.0   \n",
       "29997  this is a traditional late summer early fall s...            NaN   \n",
       "29998  this is a delicious soup that i originally fou...            NaN   \n",
       "29999  i've heard of the 'cookies by design' company,...           10.0   \n",
       "\n",
       "       description_length  \n",
       "0                   330.0  \n",
       "1                   255.0  \n",
       "2                    39.0  \n",
       "3                   154.0  \n",
       "4                   587.0  \n",
       "...                   ...  \n",
       "29995               484.0  \n",
       "29996               286.0  \n",
       "29997               311.0  \n",
       "29998               648.0  \n",
       "29999               125.0  \n",
       "\n",
       "[30000 rows x 9 columns]"
      ]
     },
     "execution_count": 74,
     "metadata": {},
     "output_type": "execute_result"
    }
   ],
   "source": [
    "recipes"
   ]
  },
  {
   "cell_type": "code",
   "execution_count": 75,
   "metadata": {},
   "outputs": [
    {
     "data": {
      "text/html": [
       "<div>\n",
       "<style scoped>\n",
       "    .dataframe tbody tr th:only-of-type {\n",
       "        vertical-align: middle;\n",
       "    }\n",
       "\n",
       "    .dataframe tbody tr th {\n",
       "        vertical-align: top;\n",
       "    }\n",
       "\n",
       "    .dataframe thead th {\n",
       "        text-align: right;\n",
       "    }\n",
       "</style>\n",
       "<table border=\"1\" class=\"dataframe\">\n",
       "  <thead>\n",
       "    <tr style=\"text-align: right;\">\n",
       "      <th></th>\n",
       "      <th>name</th>\n",
       "      <th>id</th>\n",
       "      <th>minutes</th>\n",
       "      <th>contributor_id</th>\n",
       "      <th>submitted</th>\n",
       "      <th>n_steps</th>\n",
       "      <th>description</th>\n",
       "      <th>n_ingredients</th>\n",
       "      <th>description_length</th>\n",
       "      <th>name_word_count</th>\n",
       "    </tr>\n",
       "  </thead>\n",
       "  <tbody>\n",
       "    <tr>\n",
       "      <th>14551</th>\n",
       "      <td>Irish Cream Fudge</td>\n",
       "      <td>87673</td>\n",
       "      <td>30</td>\n",
       "      <td>108846</td>\n",
       "      <td>2004-03-29</td>\n",
       "      <td>9.0</td>\n",
       "      <td>this delicious treat makes a great gift and fa...</td>\n",
       "      <td>9.0</td>\n",
       "      <td>410.0</td>\n",
       "      <td>3</td>\n",
       "    </tr>\n",
       "    <tr>\n",
       "      <th>1137</th>\n",
       "      <td>Arroz Con Pollo</td>\n",
       "      <td>321647</td>\n",
       "      <td>75</td>\n",
       "      <td>74281</td>\n",
       "      <td>2008-08-27</td>\n",
       "      <td>NaN</td>\n",
       "      <td>i could not stop thinking about the arroz con ...</td>\n",
       "      <td>23.0</td>\n",
       "      <td>317.0</td>\n",
       "      <td>3</td>\n",
       "    </tr>\n",
       "    <tr>\n",
       "      <th>21640</th>\n",
       "      <td>Pumpernickel Prune Bread  Abm</td>\n",
       "      <td>368038</td>\n",
       "      <td>250</td>\n",
       "      <td>599450</td>\n",
       "      <td>2009-04-26</td>\n",
       "      <td>1.0</td>\n",
       "      <td>based on a recipe from bh&amp;g’s cookbook, bread ...</td>\n",
       "      <td>11.0</td>\n",
       "      <td>544.0</td>\n",
       "      <td>4</td>\n",
       "    </tr>\n",
       "    <tr>\n",
       "      <th>12755</th>\n",
       "      <td>Green Split Pea And Bacon Soup</td>\n",
       "      <td>312598</td>\n",
       "      <td>55</td>\n",
       "      <td>286566</td>\n",
       "      <td>2008-07-07</td>\n",
       "      <td>NaN</td>\n",
       "      <td>from super food ideas july 2008.  though i hav...</td>\n",
       "      <td>10.0</td>\n",
       "      <td>439.0</td>\n",
       "      <td>6</td>\n",
       "    </tr>\n",
       "    <tr>\n",
       "      <th>21704</th>\n",
       "      <td>Pumpkin Hazelnut Cheesecake</td>\n",
       "      <td>36897</td>\n",
       "      <td>0</td>\n",
       "      <td>15718</td>\n",
       "      <td>2002-08-12</td>\n",
       "      <td>14.0</td>\n",
       "      <td>NaN</td>\n",
       "      <td>NaN</td>\n",
       "      <td>NaN</td>\n",
       "      <td>3</td>\n",
       "    </tr>\n",
       "  </tbody>\n",
       "</table>\n",
       "</div>"
      ],
      "text/plain": [
       "                                 name      id  minutes  contributor_id  \\\n",
       "14551               Irish Cream Fudge   87673       30          108846   \n",
       "1137                  Arroz Con Pollo  321647       75           74281   \n",
       "21640   Pumpernickel Prune Bread  Abm  368038      250          599450   \n",
       "12755  Green Split Pea And Bacon Soup  312598       55          286566   \n",
       "21704     Pumpkin Hazelnut Cheesecake   36897        0           15718   \n",
       "\n",
       "       submitted  n_steps                                        description  \\\n",
       "14551 2004-03-29      9.0  this delicious treat makes a great gift and fa...   \n",
       "1137  2008-08-27      NaN  i could not stop thinking about the arroz con ...   \n",
       "21640 2009-04-26      1.0  based on a recipe from bh&g’s cookbook, bread ...   \n",
       "12755 2008-07-07      NaN  from super food ideas july 2008.  though i hav...   \n",
       "21704 2002-08-12     14.0                                                NaN   \n",
       "\n",
       "       n_ingredients  description_length  name_word_count  \n",
       "14551            9.0               410.0                3  \n",
       "1137            23.0               317.0                3  \n",
       "21640           11.0               544.0                4  \n",
       "12755           10.0               439.0                6  \n",
       "21704            NaN                 NaN                3  "
      ]
     },
     "execution_count": 75,
     "metadata": {},
     "output_type": "execute_result"
    }
   ],
   "source": [
    "recipes['name_word_count'] = recipes.name.str.split(pat='\\s+').str.len()\n",
    "recipes.sample(5)"
   ]
  },
  {
   "cell_type": "markdown",
   "metadata": {},
   "source": [
    "### Группировки таблиц `pd.DataFrame`"
   ]
  },
  {
   "cell_type": "markdown",
   "metadata": {},
   "source": [
    "4.1 Посчитайте количество рецептов, представленных каждым из участников (`contributor_id`). Какой участник добавил максимальное кол-во рецептов?"
   ]
  },
  {
   "cell_type": "code",
   "execution_count": 76,
   "metadata": {},
   "outputs": [
    {
     "data": {
      "text/plain": [
       "89831"
      ]
     },
     "execution_count": 76,
     "metadata": {},
     "output_type": "execute_result"
    }
   ],
   "source": [
    "recipes.contributor_id.value_counts().idxmax()"
   ]
  },
  {
   "cell_type": "markdown",
   "metadata": {},
   "source": [
    "*Как мы видим, участник с id= 89831 добавил максимальное количество рецептов*"
   ]
  },
  {
   "cell_type": "markdown",
   "metadata": {},
   "source": [
    "4.2 Посчитайте средний рейтинг к каждому из рецептов. Для скольких рецептов отсутствуют отзывы? Обратите внимание, что отзыв с нулевым рейтингом или не заполненным текстовым описанием не считается отсутствующим.\n",
    "\n",
    "*Посчитаем средний рейтинг к каждому из рецептов, для этого сгрупируем отзывы по recipe_id и применим агрегацию mean*"
   ]
  },
  {
   "cell_type": "code",
   "execution_count": 77,
   "metadata": {},
   "outputs": [
    {
     "data": {
      "text/plain": [
       "recipe_id\n",
       "48        1.000000\n",
       "55        4.750000\n",
       "66        4.944444\n",
       "91        4.750000\n",
       "94        5.000000\n",
       "            ...   \n",
       "536547    5.000000\n",
       "536610    0.000000\n",
       "536728    4.000000\n",
       "536729    4.750000\n",
       "536747    0.000000\n",
       "Name: rating, Length: 28100, dtype: float64"
      ]
     },
     "execution_count": 77,
     "metadata": {},
     "output_type": "execute_result"
    }
   ],
   "source": [
    "reviews.groupby(by='recipe_id').rating.agg('mean')"
   ]
  },
  {
   "cell_type": "markdown",
   "metadata": {},
   "source": [
    "*Посмотрим, для скольких рецептов отсутствуют отзывы*"
   ]
  },
  {
   "cell_type": "code",
   "execution_count": 78,
   "metadata": {
    "scrolled": false
   },
   "outputs": [],
   "source": [
    "recipes_not_rated = recipes.merge(right=reviews, how='left', left_on='id',\n",
    "                         right_on='recipe_id')[['id', 'name', 'user_id', 'rating']]\n",
    "recipes_not_rated = recipes_not_rated[recipes_not_rated.user_id.isna()]\n",
    "\n"
   ]
  },
  {
   "cell_type": "markdown",
   "metadata": {},
   "source": [
    "*Как мы видим, отзывы отсутствуют для 1900 рецептов*"
   ]
  },
  {
   "cell_type": "markdown",
   "metadata": {},
   "source": [
    "4.3 Посчитайте количество рецептов с разбивкой по годам создания."
   ]
  },
  {
   "cell_type": "code",
   "execution_count": 79,
   "metadata": {},
   "outputs": [
    {
     "data": {
      "text/plain": [
       "2007    4429\n",
       "2008    4029\n",
       "2006    3473\n",
       "2005    3130\n",
       "2009    2963\n",
       "2002    2644\n",
       "2003    2334\n",
       "2004    2153\n",
       "2010    1538\n",
       "2011     922\n",
       "2012     659\n",
       "2001     589\n",
       "2013     490\n",
       "1999     275\n",
       "2014     139\n",
       "2000     104\n",
       "2015      42\n",
       "2017      39\n",
       "2016      24\n",
       "2018      24\n",
       "Name: submitted, dtype: int64"
      ]
     },
     "execution_count": 79,
     "metadata": {},
     "output_type": "execute_result"
    }
   ],
   "source": [
    "recipes.submitted.dt.year.value_counts()"
   ]
  },
  {
   "cell_type": "markdown",
   "metadata": {},
   "source": [
    "### Объединение таблиц `pd.DataFrame`"
   ]
  },
  {
   "cell_type": "markdown",
   "metadata": {},
   "source": [
    "5.1 При помощи объединения таблиц, создайте `DataFrame`, состоящий из четырех столбцов: `id`, `name`, `user_id`, `rating`. Рецепты, на которые не оставлен ни один отзыв, должны отсутствовать в полученной таблице. Подтвердите правильность работы вашего кода, выбрав рецепт, не имеющий отзывов, и попытавшись найти строку, соответствующую этому рецепту, в полученном `DataFrame`."
   ]
  },
  {
   "cell_type": "markdown",
   "metadata": {},
   "source": [
    "*При помощи метода merge, создадим DataFrame, состоящий из четырех столбцов: id, name, user_id, rating. Объединять будем по полям 'id' и 'recipe_id', тип соединения - inner, так как нам нужны только рецепты с отзывами*"
   ]
  },
  {
   "cell_type": "code",
   "execution_count": 80,
   "metadata": {
    "scrolled": true
   },
   "outputs": [
    {
     "data": {
      "text/html": [
       "<div>\n",
       "<style scoped>\n",
       "    .dataframe tbody tr th:only-of-type {\n",
       "        vertical-align: middle;\n",
       "    }\n",
       "\n",
       "    .dataframe tbody tr th {\n",
       "        vertical-align: top;\n",
       "    }\n",
       "\n",
       "    .dataframe thead th {\n",
       "        text-align: right;\n",
       "    }\n",
       "</style>\n",
       "<table border=\"1\" class=\"dataframe\">\n",
       "  <thead>\n",
       "    <tr style=\"text-align: right;\">\n",
       "      <th></th>\n",
       "      <th>id</th>\n",
       "      <th>name</th>\n",
       "      <th>user_id</th>\n",
       "      <th>rating</th>\n",
       "    </tr>\n",
       "  </thead>\n",
       "  <tbody>\n",
       "    <tr>\n",
       "      <th>0</th>\n",
       "      <td>44123</td>\n",
       "      <td>George S At The Cove  Black Bean Soup</td>\n",
       "      <td>743566</td>\n",
       "      <td>5</td>\n",
       "    </tr>\n",
       "    <tr>\n",
       "      <th>1</th>\n",
       "      <td>44123</td>\n",
       "      <td>George S At The Cove  Black Bean Soup</td>\n",
       "      <td>76503</td>\n",
       "      <td>5</td>\n",
       "    </tr>\n",
       "    <tr>\n",
       "      <th>2</th>\n",
       "      <td>44123</td>\n",
       "      <td>George S At The Cove  Black Bean Soup</td>\n",
       "      <td>34206</td>\n",
       "      <td>5</td>\n",
       "    </tr>\n",
       "    <tr>\n",
       "      <th>3</th>\n",
       "      <td>67664</td>\n",
       "      <td>Healthy For Them  Yogurt Popsicles</td>\n",
       "      <td>494084</td>\n",
       "      <td>5</td>\n",
       "    </tr>\n",
       "    <tr>\n",
       "      <th>4</th>\n",
       "      <td>67664</td>\n",
       "      <td>Healthy For Them  Yogurt Popsicles</td>\n",
       "      <td>303445</td>\n",
       "      <td>5</td>\n",
       "    </tr>\n",
       "    <tr>\n",
       "      <th>...</th>\n",
       "      <td>...</td>\n",
       "      <td>...</td>\n",
       "      <td>...</td>\n",
       "      <td>...</td>\n",
       "    </tr>\n",
       "    <tr>\n",
       "      <th>126691</th>\n",
       "      <td>486161</td>\n",
       "      <td>Zydeco Soup</td>\n",
       "      <td>305531</td>\n",
       "      <td>5</td>\n",
       "    </tr>\n",
       "    <tr>\n",
       "      <th>126692</th>\n",
       "      <td>486161</td>\n",
       "      <td>Zydeco Soup</td>\n",
       "      <td>1271506</td>\n",
       "      <td>5</td>\n",
       "    </tr>\n",
       "    <tr>\n",
       "      <th>126693</th>\n",
       "      <td>486161</td>\n",
       "      <td>Zydeco Soup</td>\n",
       "      <td>724631</td>\n",
       "      <td>5</td>\n",
       "    </tr>\n",
       "    <tr>\n",
       "      <th>126694</th>\n",
       "      <td>486161</td>\n",
       "      <td>Zydeco Soup</td>\n",
       "      <td>133174</td>\n",
       "      <td>5</td>\n",
       "    </tr>\n",
       "    <tr>\n",
       "      <th>126695</th>\n",
       "      <td>298512</td>\n",
       "      <td>Cookies By Design   Cookies On A Stick</td>\n",
       "      <td>804234</td>\n",
       "      <td>1</td>\n",
       "    </tr>\n",
       "  </tbody>\n",
       "</table>\n",
       "<p>126696 rows × 4 columns</p>\n",
       "</div>"
      ],
      "text/plain": [
       "            id                                    name  user_id  rating\n",
       "0        44123   George S At The Cove  Black Bean Soup   743566       5\n",
       "1        44123   George S At The Cove  Black Bean Soup    76503       5\n",
       "2        44123   George S At The Cove  Black Bean Soup    34206       5\n",
       "3        67664      Healthy For Them  Yogurt Popsicles   494084       5\n",
       "4        67664      Healthy For Them  Yogurt Popsicles   303445       5\n",
       "...        ...                                     ...      ...     ...\n",
       "126691  486161                             Zydeco Soup   305531       5\n",
       "126692  486161                             Zydeco Soup  1271506       5\n",
       "126693  486161                             Zydeco Soup   724631       5\n",
       "126694  486161                             Zydeco Soup   133174       5\n",
       "126695  298512  Cookies By Design   Cookies On A Stick   804234       1\n",
       "\n",
       "[126696 rows x 4 columns]"
      ]
     },
     "execution_count": 80,
     "metadata": {},
     "output_type": "execute_result"
    }
   ],
   "source": [
    "mergedDf = recipes.merge(right=reviews, how='inner', left_on='id',\n",
    "                         right_on='recipe_id')[['id', 'name', 'user_id', 'rating']]\n",
    "mergedDf"
   ]
  },
  {
   "cell_type": "markdown",
   "metadata": {},
   "source": [
    "*Протестируем написанный код, взяв несколько рецептов, к которым нет отзывов*"
   ]
  },
  {
   "cell_type": "code",
   "execution_count": 81,
   "metadata": {},
   "outputs": [
    {
     "name": "stdout",
     "output_type": "stream",
     "text": [
      "OK\n"
     ]
    }
   ],
   "source": [
    "def mergeTestCase():\n",
    "    tests = {223349, 249846, 216068}    \n",
    "    result = mergedDf[mergedDf.id.isin(tests)].size\n",
    "    if result == 0:\n",
    "        print('OK')\n",
    "    else:\n",
    "        print('Not passed')\n",
    "    \n",
    "mergeTestCase()"
   ]
  },
  {
   "cell_type": "markdown",
   "metadata": {},
   "source": [
    "*Как мы видим, все работает корректно*"
   ]
  },
  {
   "cell_type": "markdown",
   "metadata": {},
   "source": [
    "5.2 При помощи объединения таблиц и группировок, создайте `DataFrame`, состоящий из трех столбцов: `recipe_id`, `name`, `review_count`, где столбец `review_count` содержит кол-во отзывов, оставленных на рецепт `recipe_id`. У рецептов, на которые не оставлен ни один отзыв, в столбце `review_count` должен быть указан 0. Подтвердите правильность работы вашего кода, выбрав рецепт, не имеющий отзывов, и найдя строку, соответствующую этому рецепту, в полученном `DataFrame`."
   ]
  },
  {
   "cell_type": "code",
   "execution_count": 82,
   "metadata": {
    "scrolled": false
   },
   "outputs": [
    {
     "data": {
      "text/html": [
       "<div>\n",
       "<style scoped>\n",
       "    .dataframe tbody tr th:only-of-type {\n",
       "        vertical-align: middle;\n",
       "    }\n",
       "\n",
       "    .dataframe tbody tr th {\n",
       "        vertical-align: top;\n",
       "    }\n",
       "\n",
       "    .dataframe thead th {\n",
       "        text-align: right;\n",
       "    }\n",
       "</style>\n",
       "<table border=\"1\" class=\"dataframe\">\n",
       "  <thead>\n",
       "    <tr style=\"text-align: right;\">\n",
       "      <th></th>\n",
       "      <th>recipe_id</th>\n",
       "      <th>name</th>\n",
       "      <th>review_count</th>\n",
       "    </tr>\n",
       "  </thead>\n",
       "  <tbody>\n",
       "    <tr>\n",
       "      <th>0</th>\n",
       "      <td>44123</td>\n",
       "      <td>George S At The Cove  Black Bean Soup</td>\n",
       "      <td>3.0</td>\n",
       "    </tr>\n",
       "    <tr>\n",
       "      <th>1</th>\n",
       "      <td>67664</td>\n",
       "      <td>Healthy For Them  Yogurt Popsicles</td>\n",
       "      <td>8.0</td>\n",
       "    </tr>\n",
       "    <tr>\n",
       "      <th>2</th>\n",
       "      <td>38798</td>\n",
       "      <td>I Can T Believe It S Spinach</td>\n",
       "      <td>3.0</td>\n",
       "    </tr>\n",
       "    <tr>\n",
       "      <th>3</th>\n",
       "      <td>35173</td>\n",
       "      <td>Italian  Gut Busters</td>\n",
       "      <td>1.0</td>\n",
       "    </tr>\n",
       "    <tr>\n",
       "      <th>4</th>\n",
       "      <td>84797</td>\n",
       "      <td>Love Is In The Air  Beef Fondue   Sauces</td>\n",
       "      <td>8.0</td>\n",
       "    </tr>\n",
       "    <tr>\n",
       "      <th>...</th>\n",
       "      <td>...</td>\n",
       "      <td>...</td>\n",
       "      <td>...</td>\n",
       "    </tr>\n",
       "    <tr>\n",
       "      <th>29995</th>\n",
       "      <td>267661</td>\n",
       "      <td>Zurie S Holey Rustic Olive And Cheddar Bread</td>\n",
       "      <td>4.0</td>\n",
       "    </tr>\n",
       "    <tr>\n",
       "      <th>29996</th>\n",
       "      <td>386977</td>\n",
       "      <td>Zwetschgenkuchen  Bavarian Plum Cake</td>\n",
       "      <td>2.0</td>\n",
       "    </tr>\n",
       "    <tr>\n",
       "      <th>29997</th>\n",
       "      <td>103312</td>\n",
       "      <td>Zwiebelkuchen   Southwest German Onion Cake</td>\n",
       "      <td>6.0</td>\n",
       "    </tr>\n",
       "    <tr>\n",
       "      <th>29998</th>\n",
       "      <td>486161</td>\n",
       "      <td>Zydeco Soup</td>\n",
       "      <td>6.0</td>\n",
       "    </tr>\n",
       "    <tr>\n",
       "      <th>29999</th>\n",
       "      <td>298512</td>\n",
       "      <td>Cookies By Design   Cookies On A Stick</td>\n",
       "      <td>1.0</td>\n",
       "    </tr>\n",
       "  </tbody>\n",
       "</table>\n",
       "<p>30000 rows × 3 columns</p>\n",
       "</div>"
      ],
      "text/plain": [
       "       recipe_id                                          name  review_count\n",
       "0          44123         George S At The Cove  Black Bean Soup           3.0\n",
       "1          67664            Healthy For Them  Yogurt Popsicles           8.0\n",
       "2          38798                  I Can T Believe It S Spinach           3.0\n",
       "3          35173                          Italian  Gut Busters           1.0\n",
       "4          84797      Love Is In The Air  Beef Fondue   Sauces           8.0\n",
       "...          ...                                           ...           ...\n",
       "29995     267661  Zurie S Holey Rustic Olive And Cheddar Bread           4.0\n",
       "29996     386977          Zwetschgenkuchen  Bavarian Plum Cake           2.0\n",
       "29997     103312   Zwiebelkuchen   Southwest German Onion Cake           6.0\n",
       "29998     486161                                   Zydeco Soup           6.0\n",
       "29999     298512        Cookies By Design   Cookies On A Stick           1.0\n",
       "\n",
       "[30000 rows x 3 columns]"
      ]
     },
     "execution_count": 82,
     "metadata": {},
     "output_type": "execute_result"
    }
   ],
   "source": [
    "review_count_df = recipes.merge(right=reviews.groupby(by='recipe_id',as_index=False).agg('count'),\n",
    "                                how='left', left_on='id', right_on='recipe_id')[['id','name', 'review']]\n",
    "review_count_df.columns = ['recipe_id', 'name', 'review_count']\n",
    "review_count_df.review_count = review_count_df.review_count.fillna(0)\n",
    "review_count_df\n"
   ]
  },
  {
   "cell_type": "markdown",
   "metadata": {},
   "source": [
    "*Проверим правильность работы кода*"
   ]
  },
  {
   "cell_type": "code",
   "execution_count": 83,
   "metadata": {},
   "outputs": [
    {
     "data": {
      "text/html": [
       "<div>\n",
       "<style scoped>\n",
       "    .dataframe tbody tr th:only-of-type {\n",
       "        vertical-align: middle;\n",
       "    }\n",
       "\n",
       "    .dataframe tbody tr th {\n",
       "        vertical-align: top;\n",
       "    }\n",
       "\n",
       "    .dataframe thead th {\n",
       "        text-align: right;\n",
       "    }\n",
       "</style>\n",
       "<table border=\"1\" class=\"dataframe\">\n",
       "  <thead>\n",
       "    <tr style=\"text-align: right;\">\n",
       "      <th></th>\n",
       "      <th>recipe_id</th>\n",
       "      <th>name</th>\n",
       "      <th>review_count</th>\n",
       "    </tr>\n",
       "  </thead>\n",
       "  <tbody>\n",
       "    <tr>\n",
       "      <th>49</th>\n",
       "      <td>216068</td>\n",
       "      <td>Goulashy  Beef Stew For The Slow Cooker</td>\n",
       "      <td>0.0</td>\n",
       "    </tr>\n",
       "  </tbody>\n",
       "</table>\n",
       "</div>"
      ],
      "text/plain": [
       "    recipe_id                                     name  review_count\n",
       "49     216068  Goulashy  Beef Stew For The Slow Cooker           0.0"
      ]
     },
     "execution_count": 83,
     "metadata": {},
     "output_type": "execute_result"
    }
   ],
   "source": [
    "review_count_df[review_count_df.recipe_id == 216068]"
   ]
  },
  {
   "cell_type": "code",
   "execution_count": 84,
   "metadata": {},
   "outputs": [
    {
     "name": "stdout",
     "output_type": "stream",
     "text": [
      "OK\n"
     ]
    }
   ],
   "source": [
    "def reviewCountTestCase():\n",
    "    tests = {223349, 249846, 216068}    \n",
    "    result = review_count_df[review_count_df.recipe_id.isin(tests)].review_count.sum()\n",
    "    if result == 0:\n",
    "        print('OK')\n",
    "    else:\n",
    "        print('Not passed')\n",
    "    \n",
    "reviewCountTestCase()"
   ]
  },
  {
   "cell_type": "markdown",
   "metadata": {},
   "source": [
    "5.3. Выясните, рецепты, добавленные в каком году, имеют наименьший средний рейтинг?"
   ]
  },
  {
   "cell_type": "code",
   "execution_count": 85,
   "metadata": {},
   "outputs": [
    {
     "data": {
      "text/plain": [
       "2017"
      ]
     },
     "execution_count": 85,
     "metadata": {},
     "output_type": "execute_result"
    }
   ],
   "source": [
    "mergedDfDate = recipes.merge(right=reviews, how='inner', left_on='id',\n",
    "                         right_on='recipe_id')[['id', 'name', 'user_id', 'rating', 'submitted']]\n",
    "mergedDfDate['year'] = mergedDfDate.submitted.dt.year\n",
    "mergedDfDate.groupby(by='year').rating.agg('mean').idxmin()"
   ]
  },
  {
   "cell_type": "markdown",
   "metadata": {},
   "source": [
    "*Как мы видим, минимальный средний рейтинг имеют рецепты, добавленные в 2017 году*"
   ]
  },
  {
   "cell_type": "markdown",
   "metadata": {},
   "source": [
    "### Сохранение таблиц `pd.DataFrame`"
   ]
  },
  {
   "cell_type": "markdown",
   "metadata": {},
   "source": [
    "6.1 Отсортируйте таблицу в порядке убывания величины столбца `name_word_count` и сохраните результаты выполнения заданий 3.1-3.3 в csv файл. "
   ]
  },
  {
   "cell_type": "code",
   "execution_count": 86,
   "metadata": {},
   "outputs": [],
   "source": [
    "recipes.sort_values(by='name_word_count', ascending=False).to_csv('./recipes_result.csv')"
   ]
  },
  {
   "cell_type": "markdown",
   "metadata": {},
   "source": [
    "6.2 Воспользовавшись `pd.ExcelWriter`, cохраните результаты 5.1 и 5.2 в файл: на лист с названием `Рецепты с оценками` сохраните результаты выполнения 5.1; на лист с названием `Количество отзывов по рецептам` сохраните результаты выполнения 5.2."
   ]
  },
  {
   "cell_type": "code",
   "execution_count": 87,
   "metadata": {},
   "outputs": [],
   "source": [
    "with pd.ExcelWriter('./recipes_result_excel.xlsx') as writer:\n",
    "    mergedDf.to_excel(writer, sheet_name='Рецепты с оценками')\n",
    "    review_count_df.to_excel(writer, sheet_name='Количество отзывов по рецептам') "
   ]
  },
  {
   "cell_type": "code",
   "execution_count": null,
   "metadata": {},
   "outputs": [],
   "source": []
  },
  {
   "cell_type": "markdown",
   "metadata": {},
   "source": [
    "#### [версия 2]\n",
    "* Уточнены формулировки задач 1.1, 3.3, 4.2, 5.1, 5.2, 5.3"
   ]
  },
  {
   "cell_type": "code",
   "execution_count": null,
   "metadata": {},
   "outputs": [],
   "source": []
  }
 ],
 "metadata": {
  "kernelspec": {
   "display_name": "Python 3 (ipykernel)",
   "language": "python",
   "name": "python3"
  },
  "language_info": {
   "codemirror_mode": {
    "name": "ipython",
    "version": 3
   },
   "file_extension": ".py",
   "mimetype": "text/x-python",
   "name": "python",
   "nbconvert_exporter": "python",
   "pygments_lexer": "ipython3",
   "version": "3.9.13"
  }
 },
 "nbformat": 4,
 "nbformat_minor": 4
}
